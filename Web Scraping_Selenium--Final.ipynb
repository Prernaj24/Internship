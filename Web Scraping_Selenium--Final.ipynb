{
 "cells": [
  {
   "cell_type": "code",
   "execution_count": null,
   "id": "5219518f",
   "metadata": {},
   "outputs": [],
   "source": [
    "#!pip install selenium"
   ]
  },
  {
   "cell_type": "markdown",
   "id": "485a5f17",
   "metadata": {},
   "source": [
    "Question: 1 : Solution"
   ]
  },
  {
   "cell_type": "code",
   "execution_count": null,
   "id": "c8d58961",
   "metadata": {},
   "outputs": [],
   "source": [
    "# python program to scrape data for “Data Analyst” Job position in “Bangalore\""
   ]
  },
  {
   "cell_type": "code",
   "execution_count": null,
   "id": "49a8bf15",
   "metadata": {},
   "outputs": [],
   "source": [
    "import selenium\n",
    "import pandas as pd\n",
    "from selenium import webdriver"
   ]
  },
  {
   "cell_type": "code",
   "execution_count": null,
   "id": "3160c357",
   "metadata": {},
   "outputs": [],
   "source": [
    "driver = webdriver.Chrome(r\"C:/Users/Anurag Kumar/OneDrive/Desktop/Internship/Web Scraping Assignment_2/chromedriver_win32/chromedriver.exe\")"
   ]
  },
  {
   "cell_type": "code",
   "execution_count": null,
   "id": "2b612b03",
   "metadata": {},
   "outputs": [],
   "source": [
    "#driver.close()"
   ]
  },
  {
   "cell_type": "code",
   "execution_count": null,
   "id": "148ff5e4",
   "metadata": {},
   "outputs": [],
   "source": [
    "driver.get(\"https://www.naukri.com/\")"
   ]
  },
  {
   "cell_type": "code",
   "execution_count": null,
   "id": "d8a3ac42",
   "metadata": {},
   "outputs": [],
   "source": [
    "# finding element for job search bar\n",
    "search_job = driver.find_element_by_id(\"qsb-keyword-sugg\")\n",
    "search_job.send_keys(\"Data Analyst\")\n",
    "search_loc = driver.find_element_by_xpath(\"//input[@id='qsb-location-sugg'] \")\n",
    "search_loc.send_keys(\"Bangalore\")"
   ]
  },
  {
   "cell_type": "code",
   "execution_count": null,
   "id": "35ea3837",
   "metadata": {},
   "outputs": [],
   "source": [
    "search_btn = driver.find_element_by_xpath(\"//div[@class='search-btn']/button\")\n",
    "search_btn.click()"
   ]
  },
  {
   "cell_type": "code",
   "execution_count": null,
   "id": "51a8101e",
   "metadata": {},
   "outputs": [],
   "source": [
    "# alternative of above code\n",
    "# specifying the url of the webpage to be scraped\n",
    "url=\"https://www.naukri.com/data-analyst-jobs-in-bangalore?k=data%20analyst&l=bangalore\""
   ]
  },
  {
   "cell_type": "code",
   "execution_count": null,
   "id": "e1da89e0",
   "metadata": {},
   "outputs": [],
   "source": [
    "# lets open the webpage through our web driver\n",
    "driver.get(url)"
   ]
  },
  {
   "cell_type": "code",
   "execution_count": null,
   "id": "7cb69dd2",
   "metadata": {},
   "outputs": [],
   "source": [
    "job_location=[]\n",
    "job_title=[]\n",
    "company_name=[]\n",
    "experience_required=[]"
   ]
  },
  {
   "cell_type": "code",
   "execution_count": null,
   "id": "698743ea",
   "metadata": {},
   "outputs": [],
   "source": [
    "# extract job_location\n",
    "location=driver.find_elements_by_xpath(\"//li[@class='fleft grey-text br2 placeHolderLi location']\")\n",
    "location[0:9]"
   ]
  },
  {
   "cell_type": "code",
   "execution_count": null,
   "id": "d56a6047",
   "metadata": {},
   "outputs": [],
   "source": [
    "for i in location:\n",
    "    l=i.text\n",
    "    job_location.append(l)\n",
    "job_location[0:9]    "
   ]
  },
  {
   "cell_type": "code",
   "execution_count": null,
   "id": "4071dc15",
   "metadata": {},
   "outputs": [],
   "source": [
    "# extract job_title\n",
    "title=driver.find_elements_by_xpath(\"//a[@class='title fw500 ellipsis']\")\n",
    "title[0:9]"
   ]
  },
  {
   "cell_type": "code",
   "execution_count": null,
   "id": "5e069238",
   "metadata": {},
   "outputs": [],
   "source": [
    "for i in title:\n",
    "    t=i.text\n",
    "    job_title.append(t)\n",
    "job_title[0:9]  "
   ]
  },
  {
   "cell_type": "code",
   "execution_count": null,
   "id": "dc121540",
   "metadata": {},
   "outputs": [],
   "source": [
    "# extract company_name\n",
    "name=driver.find_elements_by_xpath(\"//a[@class='subTitle ellipsis fleft']\")\n",
    "name[0:9]"
   ]
  },
  {
   "cell_type": "code",
   "execution_count": null,
   "id": "b6e11f8c",
   "metadata": {},
   "outputs": [],
   "source": [
    "for i in name:\n",
    "    n=i.text\n",
    "    company_name.append(n)\n",
    "company_name[0:9] "
   ]
  },
  {
   "cell_type": "code",
   "execution_count": null,
   "id": "77783b36",
   "metadata": {},
   "outputs": [],
   "source": [
    "# extract experience_required\n",
    "experience=driver.find_elements_by_xpath(\"//li[@class='fleft grey-text br2 placeHolderLi experience']/span[1]\")\n",
    "experience[0:9]"
   ]
  },
  {
   "cell_type": "code",
   "execution_count": null,
   "id": "737b611f",
   "metadata": {},
   "outputs": [],
   "source": [
    "for i in experience:\n",
    "    e=i.text\n",
    "    experience_required.append(e)\n",
    "experience_required[0:9] "
   ]
  },
  {
   "cell_type": "code",
   "execution_count": null,
   "id": "c6177a47",
   "metadata": {},
   "outputs": [],
   "source": [
    "print(len(job_location),len(job_title),len(company_name),len(experience_required))"
   ]
  },
  {
   "cell_type": "code",
   "execution_count": null,
   "id": "f53c0ec5",
   "metadata": {},
   "outputs": [],
   "source": [
    "import pandas as pd\n",
    "jobs=pd.DataFrame({})\n",
    "jobs['Location']=job_location\n",
    "jobs['Title']=job_title\n",
    "jobs['Company']=company_name\n",
    "jobs['Experience']=experience_required\n"
   ]
  },
  {
   "cell_type": "code",
   "execution_count": null,
   "id": "8c4437d6",
   "metadata": {
    "scrolled": true
   },
   "outputs": [],
   "source": [
    "jobs"
   ]
  },
  {
   "cell_type": "markdown",
   "id": "2c109152",
   "metadata": {},
   "source": [
    "Question: 2 : Solution"
   ]
  },
  {
   "cell_type": "code",
   "execution_count": null,
   "id": "79a9a9f6",
   "metadata": {},
   "outputs": [],
   "source": [
    "#python program to scrape data for “Data Scientist” Job position in “Bangalore” location"
   ]
  },
  {
   "cell_type": "code",
   "execution_count": null,
   "id": "8e375e5d",
   "metadata": {},
   "outputs": [],
   "source": [
    "import selenium\n",
    "import pandas as pd\n",
    "from selenium import webdriver"
   ]
  },
  {
   "cell_type": "code",
   "execution_count": null,
   "id": "6e9da444",
   "metadata": {},
   "outputs": [],
   "source": [
    "driver = webdriver.Chrome(r\"C:/Users/Anurag Kumar/OneDrive/Desktop/Internship/Web Scraping Assignment_2/chromedriver_win32/chromedriver.exe\")"
   ]
  },
  {
   "cell_type": "code",
   "execution_count": null,
   "id": "1b9f7196",
   "metadata": {},
   "outputs": [],
   "source": [
    "driver.get(\"https://www.naukri.com/\")"
   ]
  },
  {
   "cell_type": "code",
   "execution_count": null,
   "id": "314ef793",
   "metadata": {},
   "outputs": [],
   "source": [
    "search_job = driver.find_element_by_id(\"qsb-keyword-sugg\")\n",
    "search_job.send_keys(\"Data Scientist\")\n",
    "search_loc = driver.find_element_by_xpath(\"//input[@id='qsb-location-sugg'] \")\n",
    "search_loc.send_keys(\"Bangalore\")"
   ]
  },
  {
   "cell_type": "code",
   "execution_count": null,
   "id": "19931a0c",
   "metadata": {},
   "outputs": [],
   "source": [
    "search_btn = driver.find_element_by_xpath(\"//div[@class='search-btn']/button\")\n",
    "search_btn.click()"
   ]
  },
  {
   "cell_type": "code",
   "execution_count": null,
   "id": "ee1f5fc9",
   "metadata": {},
   "outputs": [],
   "source": [
    "job_location=[]\n",
    "job_title=[]\n",
    "company_name=[]"
   ]
  },
  {
   "cell_type": "code",
   "execution_count": null,
   "id": "875db2e7",
   "metadata": {},
   "outputs": [],
   "source": [
    "# extract job_location\n",
    "location=driver.find_elements_by_xpath(\"//li[@class='fleft grey-text br2 placeHolderLi location']\")\n",
    "location[0:9]\n",
    "\n",
    "\n",
    "for i in location:\n",
    "    l=i.text\n",
    "    job_location.append(l)\n",
    "job_location[0:9]   "
   ]
  },
  {
   "cell_type": "code",
   "execution_count": null,
   "id": "0d03ae37",
   "metadata": {},
   "outputs": [],
   "source": [
    "# extract job_title\n",
    "title=driver.find_elements_by_xpath(\"//a[@class='title fw500 ellipsis']\")\n",
    "title[0:9]\n",
    "\n",
    "for i in title:\n",
    "    t=i.text\n",
    "    job_title.append(t)\n",
    "job_title[0:9] "
   ]
  },
  {
   "cell_type": "code",
   "execution_count": null,
   "id": "c759eea7",
   "metadata": {},
   "outputs": [],
   "source": [
    "# extract company_name\n",
    "name=driver.find_elements_by_xpath(\"//a[@class='subTitle ellipsis fleft']\")\n",
    "name[0:9]\n",
    "\n",
    "for i in name:\n",
    "    n=i.text\n",
    "    company_name.append(n)\n",
    "company_name[0:9] "
   ]
  },
  {
   "cell_type": "code",
   "execution_count": null,
   "id": "3cb630da",
   "metadata": {},
   "outputs": [],
   "source": [
    "print(len(job_location),len(job_title),len(company_name))"
   ]
  },
  {
   "cell_type": "code",
   "execution_count": null,
   "id": "0d03f5df",
   "metadata": {},
   "outputs": [],
   "source": [
    "import pandas as pd\n",
    "jobs=pd.DataFrame({})\n",
    "jobs['Location']=job_location\n",
    "jobs['Title']=job_title\n",
    "jobs['Company']=company_name"
   ]
  },
  {
   "cell_type": "code",
   "execution_count": null,
   "id": "baafa0b0",
   "metadata": {},
   "outputs": [],
   "source": [
    "jobs"
   ]
  },
  {
   "cell_type": "markdown",
   "id": "c3ee184b",
   "metadata": {},
   "source": [
    "Question: 3 : Solution"
   ]
  },
  {
   "cell_type": "code",
   "execution_count": null,
   "id": "adbe29fb",
   "metadata": {},
   "outputs": [],
   "source": [
    "#python program to scrape data using the filters available on the webpage"
   ]
  },
  {
   "cell_type": "code",
   "execution_count": null,
   "id": "6cfe8c8f",
   "metadata": {},
   "outputs": [],
   "source": [
    "import selenium\n",
    "import pandas as pd\n",
    "from selenium import webdriver"
   ]
  },
  {
   "cell_type": "code",
   "execution_count": null,
   "id": "934d9472",
   "metadata": {},
   "outputs": [],
   "source": [
    "driver = webdriver.Chrome(r\"C:/Users/Anurag Kumar/OneDrive/Desktop/Internship/Web Scraping Assignment_2/chromedriver_win32/chromedriver.exe\")"
   ]
  },
  {
   "cell_type": "code",
   "execution_count": null,
   "id": "bfa70400",
   "metadata": {},
   "outputs": [],
   "source": [
    "driver.get(\"https://www.naukri.com/\")"
   ]
  },
  {
   "cell_type": "code",
   "execution_count": null,
   "id": "2d43a7bb",
   "metadata": {},
   "outputs": [],
   "source": [
    "# finding element for job search bar\n",
    "search_job = driver.find_element_by_id(\"qsb-keyword-sugg\")\n",
    "search_job.send_keys(\"Data Scientist\")"
   ]
  },
  {
   "cell_type": "code",
   "execution_count": null,
   "id": "ccb5a8f7",
   "metadata": {},
   "outputs": [],
   "source": [
    "search_btn = driver.find_element_by_xpath(\"//div[@class='search-btn']/button\")\n",
    "search_btn.click()"
   ]
  },
  {
   "cell_type": "code",
   "execution_count": null,
   "id": "9eabe06f",
   "metadata": {},
   "outputs": [],
   "source": [
    "# apply the location filter \"Delhi/NCR” and salary filter “3-6” lakhs"
   ]
  },
  {
   "cell_type": "code",
   "execution_count": null,
   "id": "9141fff1",
   "metadata": {},
   "outputs": [],
   "source": [
    "#finding the delhi/ncr check box\n",
    "loc=driver.find_element_by_xpath(\"/html/body/div[1]/div[3]/div[2]/section[1]/div[2]/div[3]/div[2]/div[3]/label/i\")\n",
    "loc.click()"
   ]
  },
  {
   "cell_type": "code",
   "execution_count": null,
   "id": "f6971a0b",
   "metadata": {},
   "outputs": [],
   "source": [
    "# finding the salary check box\n",
    "slry_box = driver.find_element_by_xpath(\"/html/body/div[1]/div[3]/div[2]/section[1]/div[2]/div[4]/div[2]/div[2]/label/i\")\n",
    "slry_box.click()"
   ]
  },
  {
   "cell_type": "code",
   "execution_count": null,
   "id": "86e6ee5d",
   "metadata": {},
   "outputs": [],
   "source": [
    "job_title=[]\n",
    "job_location=[]\n",
    "company_name=[]\n",
    "experience_required=[]"
   ]
  },
  {
   "cell_type": "code",
   "execution_count": null,
   "id": "373660ce",
   "metadata": {},
   "outputs": [],
   "source": [
    "location_filter=driver.find_elements_by_xpath(\"//i[@class='fleft naukicon naukicon-checked']/p[1]\")\n",
    "location[0:9]"
   ]
  },
  {
   "cell_type": "code",
   "execution_count": null,
   "id": "37f4591a",
   "metadata": {},
   "outputs": [],
   "source": [
    "# extract job_title\n",
    "title=driver.find_elements_by_xpath(\"//a[@class='title fw500 ellipsis']\")\n",
    "title[0:9]"
   ]
  },
  {
   "cell_type": "code",
   "execution_count": null,
   "id": "08c22c79",
   "metadata": {},
   "outputs": [],
   "source": [
    "for i in title:\n",
    "    t=i.text\n",
    "    job_title.append(t)\n",
    "job_title[0:9]  "
   ]
  },
  {
   "cell_type": "code",
   "execution_count": null,
   "id": "86af43c6",
   "metadata": {},
   "outputs": [],
   "source": [
    "# extract job_location\n",
    "location=driver.find_elements_by_xpath(\"//li[@class='fleft grey-text br2 placeHolderLi location']\")\n",
    "location[0:9]"
   ]
  },
  {
   "cell_type": "code",
   "execution_count": null,
   "id": "8f8660eb",
   "metadata": {},
   "outputs": [],
   "source": [
    "for i in location:\n",
    "    l=i.text\n",
    "    job_location.append(l)\n",
    "job_location[0:9] "
   ]
  },
  {
   "cell_type": "code",
   "execution_count": null,
   "id": "a5334ef7",
   "metadata": {},
   "outputs": [],
   "source": [
    "name=driver.find_elements_by_xpath(\"//a[@class='subTitle ellipsis fleft']\")\n",
    "name[0:10]"
   ]
  },
  {
   "cell_type": "code",
   "execution_count": null,
   "id": "57addf8f",
   "metadata": {},
   "outputs": [],
   "source": [
    "for i in name:\n",
    "    n=i.text\n",
    "    company_name.append(n)\n",
    "company_name"
   ]
  },
  {
   "cell_type": "code",
   "execution_count": null,
   "id": "9546387d",
   "metadata": {},
   "outputs": [],
   "source": [
    "# extract experience_required\n",
    "experience=driver.find_elements_by_xpath(\"//li[@class='fleft grey-text br2 placeHolderLi experience']/span[1]\")\n",
    "experience[0:9]"
   ]
  },
  {
   "cell_type": "code",
   "execution_count": null,
   "id": "6aa437e7",
   "metadata": {},
   "outputs": [],
   "source": [
    "for i in experience:\n",
    "    e=i.text\n",
    "    experience_required.append(e)\n",
    "experience_required"
   ]
  },
  {
   "cell_type": "code",
   "execution_count": null,
   "id": "85c13419",
   "metadata": {},
   "outputs": [],
   "source": [
    "print(len(job_title),len(job_location),len(company_name),len(experience_required))"
   ]
  },
  {
   "cell_type": "code",
   "execution_count": null,
   "id": "9c25c58e",
   "metadata": {},
   "outputs": [],
   "source": [
    "jobs=pd.DataFrame({})\n",
    "jobs['Title']=job_title\n",
    "jobs['Location']=job_location\n",
    "jobs['Company']=company_name\n",
    "jobs['Experience']=experience_required\n"
   ]
  },
  {
   "cell_type": "code",
   "execution_count": null,
   "id": "f1e51433",
   "metadata": {},
   "outputs": [],
   "source": [
    "jobs"
   ]
  },
  {
   "cell_type": "markdown",
   "id": "88311497",
   "metadata": {},
   "source": [
    "Question: 4 : Solution"
   ]
  },
  {
   "cell_type": "code",
   "execution_count": null,
   "id": "bafe5eb0",
   "metadata": {},
   "outputs": [],
   "source": [
    "#Scrape data of first 100 sunglasses listings on flipkart.com."
   ]
  },
  {
   "cell_type": "code",
   "execution_count": null,
   "id": "8a177c35",
   "metadata": {},
   "outputs": [],
   "source": [
    "import selenium\n",
    "import pandas as pd\n",
    "from selenium import webdriver"
   ]
  },
  {
   "cell_type": "code",
   "execution_count": null,
   "id": "ff8277d8",
   "metadata": {},
   "outputs": [],
   "source": [
    "driver = webdriver.Chrome(r\"C:/Users/Anurag Kumar/OneDrive/Desktop/Internship/Web Scraping Assignment_2/chromedriver_win32/chromedriver.exe\")"
   ]
  },
  {
   "cell_type": "code",
   "execution_count": null,
   "id": "e694f582",
   "metadata": {},
   "outputs": [],
   "source": [
    "driver.get(\"https://www.flipkart.com/\")"
   ]
  },
  {
   "cell_type": "code",
   "execution_count": null,
   "id": "ee991550",
   "metadata": {},
   "outputs": [],
   "source": [
    "search=driver.find_element_by_xpath(\"//input[@class='_3704LK']\")\n",
    "search.send_keys('sunglasses')\n",
    "search.find_element_by_xpath(\"//button[@class='L0Z3Pu']\").click()"
   ]
  },
  {
   "cell_type": "code",
   "execution_count": null,
   "id": "62b048ff",
   "metadata": {},
   "outputs": [],
   "source": [
    "brand_tag=driver.find_elements_by_class_name('_2WkVRV')\n",
    "brand_tag"
   ]
  },
  {
   "cell_type": "code",
   "execution_count": null,
   "id": "14f1d58b",
   "metadata": {},
   "outputs": [],
   "source": [
    "brands=[]\n",
    "for i in brand_tag:\n",
    "    brand=i.text\n",
    "    brands.append(brand)\n",
    "brands"
   ]
  },
  {
   "cell_type": "code",
   "execution_count": null,
   "id": "a0805d63",
   "metadata": {},
   "outputs": [],
   "source": [
    "prices=[]\n",
    "price_tag=driver.find_elements_by_class_name('_30jeq3')\n",
    "price_tag"
   ]
  },
  {
   "cell_type": "code",
   "execution_count": null,
   "id": "46be48d6",
   "metadata": {},
   "outputs": [],
   "source": [
    "for i in price_tag:\n",
    "    price=i.text\n",
    "    prices.append(price)\n",
    "prices"
   ]
  },
  {
   "cell_type": "code",
   "execution_count": null,
   "id": "7a1106bb",
   "metadata": {},
   "outputs": [],
   "source": [
    "driver.find_element_by_class_name('_1LKTO3').click()"
   ]
  },
  {
   "cell_type": "code",
   "execution_count": null,
   "id": "c1098abf",
   "metadata": {},
   "outputs": [],
   "source": [
    "brand_tag_1=driver.find_elements_by_class_name('_2WkVRV')\n",
    "brand_tag_1"
   ]
  },
  {
   "cell_type": "code",
   "execution_count": null,
   "id": "7a16d23c",
   "metadata": {},
   "outputs": [],
   "source": [
    "for i in brand_tag_1:\n",
    "    brand_1=i.text\n",
    "    brands.append(brand_1)\n",
    "brands"
   ]
  },
  {
   "cell_type": "code",
   "execution_count": null,
   "id": "f09d065a",
   "metadata": {},
   "outputs": [],
   "source": [
    "price_tag_1=driver.find_elements_by_class_name('_30jeq3')\n",
    "price_tag_1"
   ]
  },
  {
   "cell_type": "code",
   "execution_count": null,
   "id": "4557b115",
   "metadata": {},
   "outputs": [],
   "source": [
    "for i in price_tag_1:\n",
    "    price1=i.text\n",
    "    prices.append(price1)\n",
    "prices"
   ]
  },
  {
   "cell_type": "code",
   "execution_count": null,
   "id": "d7458d99",
   "metadata": {},
   "outputs": [],
   "source": [
    "driver.find_element_by_class_name('_1LKTO3').click()"
   ]
  },
  {
   "cell_type": "code",
   "execution_count": null,
   "id": "0b035f46",
   "metadata": {},
   "outputs": [],
   "source": [
    "brand_tag_2=driver.find_elements_by_class_name('_2WkVRV')\n",
    "brand_tag_2[0:20]"
   ]
  },
  {
   "cell_type": "code",
   "execution_count": null,
   "id": "4f2292e2",
   "metadata": {},
   "outputs": [],
   "source": [
    "brands1=[]\n",
    "for i in brand_tag_2:\n",
    "    brand_2=i.text\n",
    "    brands1.append(brand_2)\n",
    "brands1=brands1[0:20]\n",
    "brands1"
   ]
  },
  {
   "cell_type": "code",
   "execution_count": null,
   "id": "7950e820",
   "metadata": {},
   "outputs": [],
   "source": [
    "price_tag_2=driver.find_elements_by_class_name('_30jeq3')\n",
    "price_tag_2[0:20]"
   ]
  },
  {
   "cell_type": "code",
   "execution_count": null,
   "id": "fad7fbe2",
   "metadata": {},
   "outputs": [],
   "source": [
    "prices2=[]\n",
    "for i in price_tag_2:\n",
    "    price2=i.text\n",
    "    prices2.append(price2)\n",
    "prices2=prices[0:10]\n",
    "prices2"
   ]
  },
  {
   "cell_type": "code",
   "execution_count": null,
   "id": "5c0496d3",
   "metadata": {},
   "outputs": [],
   "source": [
    "prices+=prices2\n",
    "prices\n",
    "\n",
    "brands +=brands1\n",
    "brands"
   ]
  },
  {
   "cell_type": "code",
   "execution_count": null,
   "id": "4df47e05",
   "metadata": {},
   "outputs": [],
   "source": [
    "print(len(brands),len(prices))"
   ]
  },
  {
   "cell_type": "code",
   "execution_count": null,
   "id": "2aa6dee6",
   "metadata": {},
   "outputs": [],
   "source": [
    "df = pd.DataFrame({'Sunglass Brand':brands,'Price':prices})\n",
    "df"
   ]
  },
  {
   "cell_type": "markdown",
   "id": "85ffc365",
   "metadata": {},
   "source": [
    "Question: 5 : Solution"
   ]
  },
  {
   "cell_type": "code",
   "execution_count": null,
   "id": "39c116a7",
   "metadata": {},
   "outputs": [],
   "source": [
    "# Scrape 100 reviews data from flipkart.com for iphone11 phone"
   ]
  },
  {
   "cell_type": "code",
   "execution_count": null,
   "id": "290a46bc",
   "metadata": {},
   "outputs": [],
   "source": [
    "import selenium\n",
    "import pandas as pd\n",
    "from selenium import webdriver"
   ]
  },
  {
   "cell_type": "code",
   "execution_count": null,
   "id": "854e9cd4",
   "metadata": {},
   "outputs": [],
   "source": [
    "driver = webdriver.Chrome(r\"C:/Users/Anurag Kumar/OneDrive/Desktop/Internship/Web Scraping Assignment_2/chromedriver_win32/chromedriver.exe\")"
   ]
  },
  {
   "cell_type": "code",
   "execution_count": null,
   "id": "1d824bba",
   "metadata": {},
   "outputs": [],
   "source": [
    "driver.get('https://www.flipkart.com/apple-iphone-11-black-64-gb-includes-earpods-power-adapter/p/itm0f37c2240b217?pid=MOBFKCTSVZAXUHGR&lid=LSTMOBFKC')"
   ]
  },
  {
   "cell_type": "code",
   "execution_count": null,
   "id": "825fd883",
   "metadata": {},
   "outputs": [],
   "source": [
    "rating=driver.find_elements_by_xpath(\"//div[@class='_3LWZlK _1BLPMq']\")\n",
    "rating"
   ]
  },
  {
   "cell_type": "code",
   "execution_count": null,
   "id": "f2d6b4c6",
   "metadata": {},
   "outputs": [],
   "source": [
    "rating_star=[]\n",
    "for i in rating:\n",
    "    rating=i.text\n",
    "    rating_star.append(rating)\n",
    "rating_star"
   ]
  },
  {
   "cell_type": "code",
   "execution_count": null,
   "id": "dfd3e534",
   "metadata": {},
   "outputs": [],
   "source": [
    "summary=driver.find_elements_by_class_name('_2-N8zT')\n",
    "summary"
   ]
  },
  {
   "cell_type": "code",
   "execution_count": null,
   "id": "9d5c4f59",
   "metadata": {},
   "outputs": [],
   "source": [
    "review_summary=[]\n",
    "for i in summary:\n",
    "    summary=i.text\n",
    "    review_summary.append(summary)\n",
    "review_summary"
   ]
  },
  {
   "cell_type": "code",
   "execution_count": null,
   "id": "1375e0e7",
   "metadata": {},
   "outputs": [],
   "source": [
    "review=driver.find_elements_by_class_name('t-ZTKy')\n",
    "review"
   ]
  },
  {
   "cell_type": "code",
   "execution_count": null,
   "id": "dbf0236b",
   "metadata": {},
   "outputs": [],
   "source": [
    "full_review=[]\n",
    "for i in review:\n",
    "    review=i.text\n",
    "    full_review.append(review)\n",
    "full_review"
   ]
  },
  {
   "cell_type": "code",
   "execution_count": null,
   "id": "acc5fa92",
   "metadata": {},
   "outputs": [],
   "source": [
    "print(len(rating_star),len(review_summary),len(full_review))"
   ]
  },
  {
   "cell_type": "code",
   "execution_count": null,
   "id": "a776e946",
   "metadata": {},
   "outputs": [],
   "source": [
    "data = pd.DataFrame({'Rating':rating_star,'Summary':review_summary,'Review':full_review})\n",
    "data"
   ]
  },
  {
   "cell_type": "markdown",
   "id": "217e0899",
   "metadata": {},
   "source": [
    "Question: 6 : Solution"
   ]
  },
  {
   "cell_type": "code",
   "execution_count": null,
   "id": "e7575fc5",
   "metadata": {},
   "outputs": [],
   "source": [
    "# Scrape data for first 100 sneakers you find when you visit flipkart.com"
   ]
  },
  {
   "cell_type": "code",
   "execution_count": null,
   "id": "a87c56c6",
   "metadata": {},
   "outputs": [],
   "source": [
    "import selenium\n",
    "import pandas as pd\n",
    "from selenium import webdriver"
   ]
  },
  {
   "cell_type": "code",
   "execution_count": null,
   "id": "058ce766",
   "metadata": {},
   "outputs": [],
   "source": [
    "driver = webdriver.Chrome(r\"C:/Users/Anurag Kumar/OneDrive/Desktop/Internship/Web Scraping Assignment_2/chromedriver_win32/chromedriver.exe\")"
   ]
  },
  {
   "cell_type": "code",
   "execution_count": null,
   "id": "e0ed7a56",
   "metadata": {},
   "outputs": [],
   "source": [
    "driver.get(\"https://www.flipkart.com/\")"
   ]
  },
  {
   "cell_type": "code",
   "execution_count": null,
   "id": "64fe1735",
   "metadata": {},
   "outputs": [],
   "source": [
    "search=driver.find_element_by_xpath(\"//input[@class='_3704LK']\")\n",
    "search.send_keys('sneakers')\n",
    "search.find_element_by_xpath(\"//button[@class='L0Z3Pu']\").click()"
   ]
  },
  {
   "cell_type": "code",
   "execution_count": null,
   "id": "a64b3c6f",
   "metadata": {},
   "outputs": [],
   "source": [
    "brands=[]\n",
    "product_Description=[]\n",
    "price=[]\n",
    "discount=[]"
   ]
  },
  {
   "cell_type": "code",
   "execution_count": null,
   "id": "1cc1ef1e",
   "metadata": {},
   "outputs": [],
   "source": [
    "brand=driver.find_elements_by_xpath(\"//div[@class='_2WkVRV']\")\n",
    "brand[0:99]"
   ]
  },
  {
   "cell_type": "code",
   "execution_count": null,
   "id": "e272d601",
   "metadata": {},
   "outputs": [],
   "source": [
    "for i in brand:\n",
    "    b=i.text\n",
    "    brands.append(b)\n",
    "brands[0:99]  "
   ]
  },
  {
   "cell_type": "code",
   "execution_count": null,
   "id": "dad17e72",
   "metadata": {},
   "outputs": [],
   "source": [
    "description=driver.find_elements_by_xpath(\"//a[@class='IRpwTa']\")\n",
    "description[0:99]"
   ]
  },
  {
   "cell_type": "code",
   "execution_count": null,
   "id": "2716a534",
   "metadata": {},
   "outputs": [],
   "source": [
    "for i in description:\n",
    "    p=i.text\n",
    "    product_Description.append(p)\n",
    "product_Description[0:99]  "
   ]
  },
  {
   "cell_type": "code",
   "execution_count": null,
   "id": "c5afced0",
   "metadata": {},
   "outputs": [],
   "source": [
    "amount=driver.find_elements_by_xpath(\"//div[@class='_30jeq3']\")\n",
    "amount[0:99]"
   ]
  },
  {
   "cell_type": "code",
   "execution_count": null,
   "id": "baf4c09c",
   "metadata": {},
   "outputs": [],
   "source": [
    "for i in amount:\n",
    "    pr=i.text\n",
    "    price.append(pr)\n",
    "price[0:99]  "
   ]
  },
  {
   "cell_type": "code",
   "execution_count": null,
   "id": "d5cdf85a",
   "metadata": {},
   "outputs": [],
   "source": [
    "dis=driver.find_elements_by_xpath(\"//div[@class='_3Ay6Sb']\")\n",
    "dis[0:99]"
   ]
  },
  {
   "cell_type": "code",
   "execution_count": null,
   "id": "06d0248c",
   "metadata": {},
   "outputs": [],
   "source": [
    "for i in dis:\n",
    "    d=i.text\n",
    "    discount.append(d)\n",
    "discount[0:99] "
   ]
  },
  {
   "cell_type": "code",
   "execution_count": null,
   "id": "703be1dd",
   "metadata": {},
   "outputs": [],
   "source": [
    "print(len(brands),len(product_Description),len(price),len(discount))"
   ]
  },
  {
   "cell_type": "code",
   "execution_count": null,
   "id": "5801c1a3",
   "metadata": {},
   "outputs": [],
   "source": [
    "import pandas as pd\n",
    "data=pd.DataFrame({})\n",
    "data['Brands']=brands\n",
    "data['Description']=product_Description\n",
    "data['Price']=price\n",
    "data['Discount']=discount"
   ]
  },
  {
   "cell_type": "code",
   "execution_count": null,
   "id": "93eba2e1",
   "metadata": {},
   "outputs": [],
   "source": [
    "data"
   ]
  },
  {
   "cell_type": "code",
   "execution_count": null,
   "id": "e6411750",
   "metadata": {},
   "outputs": [],
   "source": [
    "# Question: 7 : Solution\n",
    "# scrape First 100 shoes data from myntra "
   ]
  },
  {
   "cell_type": "code",
   "execution_count": null,
   "id": "255280e4",
   "metadata": {},
   "outputs": [],
   "source": [
    "import selenium\n",
    "import pandas as pd\n",
    "from selenium import webdriver"
   ]
  },
  {
   "cell_type": "code",
   "execution_count": null,
   "id": "a07f7cd6",
   "metadata": {},
   "outputs": [],
   "source": [
    "driver = webdriver.Chrome(r\"C:/Users/Anurag Kumar/OneDrive/Desktop/Internship/Web Scraping Assignment_2/chromedriver_win32/chromedriver.exe\")"
   ]
  },
  {
   "cell_type": "code",
   "execution_count": null,
   "id": "a10aeb9d",
   "metadata": {},
   "outputs": [],
   "source": [
    "driver.get(\"https://www.myntra.com/shoes\")"
   ]
  },
  {
   "cell_type": "code",
   "execution_count": null,
   "id": "51d28252",
   "metadata": {},
   "outputs": [],
   "source": [
    "driver.find_element_by_xpath('//*[@id=\"mountRoot\"]/div/div[1]/main/div[3]/div[1]/section/div/div[5]/ul/li[2]/label/div').click()"
   ]
  },
  {
   "cell_type": "code",
   "execution_count": null,
   "id": "28de69b4",
   "metadata": {},
   "outputs": [],
   "source": [
    "driver.find_element_by_xpath('//*[@id=\"mountRoot\"]/div/div[1]/main/div[3]/div[1]/section/div/div[6]/ul/li[1]/label/div').click()"
   ]
  },
  {
   "cell_type": "code",
   "execution_count": null,
   "id": "d75cc8e7",
   "metadata": {},
   "outputs": [],
   "source": [
    "brand_tag=driver.find_elements_by_xpath(\"//h3[@class='product-brand']\")"
   ]
  },
  {
   "cell_type": "code",
   "execution_count": null,
   "id": "84283f72",
   "metadata": {},
   "outputs": [],
   "source": [
    "brands=[]\n",
    "for i in brand_tag:\n",
    "    brand=i.text\n",
    "    brands.append(brand)\n",
    "brands"
   ]
  },
  {
   "cell_type": "code",
   "execution_count": null,
   "id": "33195675",
   "metadata": {},
   "outputs": [],
   "source": [
    "description_tag=driver.find_elements_by_xpath(\"//h4[@class='product-product']\")"
   ]
  },
  {
   "cell_type": "code",
   "execution_count": null,
   "id": "da0bd47c",
   "metadata": {},
   "outputs": [],
   "source": [
    "descriptions=[]\n",
    "for i in description_tag:\n",
    "    description=i.text\n",
    "    descriptions.append(description)\n",
    "descriptions"
   ]
  },
  {
   "cell_type": "code",
   "execution_count": null,
   "id": "748ba39e",
   "metadata": {},
   "outputs": [],
   "source": [
    "price_tag=driver.find_elements_by_xpath(\"//div[@class='product-price']\")"
   ]
  },
  {
   "cell_type": "code",
   "execution_count": null,
   "id": "e5c7bcf5",
   "metadata": {},
   "outputs": [],
   "source": [
    "prices=[]\n",
    "for i in price_tag:\n",
    "    price=i.text\n",
    "    prices.append(price)\n",
    "prices"
   ]
  },
  {
   "cell_type": "code",
   "execution_count": null,
   "id": "af906cb6",
   "metadata": {},
   "outputs": [],
   "source": [
    "driver.find_element_by_xpath('//*[@id=\"desktopSearchResults\"]/div[2]/section/div[2]/ul/li[3]/a').click()"
   ]
  },
  {
   "cell_type": "code",
   "execution_count": null,
   "id": "e9feeabc",
   "metadata": {},
   "outputs": [],
   "source": [
    "brand_tag=driver.find_elements_by_xpath(\"//h3[@class='product-brand']\")"
   ]
  },
  {
   "cell_type": "code",
   "execution_count": null,
   "id": "abbc140f",
   "metadata": {},
   "outputs": [],
   "source": [
    "brands=[]\n",
    "for i in brand_tag:\n",
    "    brand=i.text\n",
    "    brands.append(brand)\n",
    "brands"
   ]
  },
  {
   "cell_type": "code",
   "execution_count": null,
   "id": "bf62dd69",
   "metadata": {},
   "outputs": [],
   "source": [
    "description_tag=driver.find_elements_by_xpath(\"//h4[@class='product-product']\")"
   ]
  },
  {
   "cell_type": "code",
   "execution_count": null,
   "id": "5f6eb3ba",
   "metadata": {},
   "outputs": [],
   "source": [
    "descriptions=[]\n",
    "for i in description_tag:\n",
    "    description=i.text\n",
    "    descriptions.append(description)\n",
    "descriptions"
   ]
  },
  {
   "cell_type": "code",
   "execution_count": null,
   "id": "a72637fc",
   "metadata": {},
   "outputs": [],
   "source": [
    "price_tag=driver.find_elements_by_xpath(\"//div[@class='product-price']\")"
   ]
  },
  {
   "cell_type": "code",
   "execution_count": null,
   "id": "52994d39",
   "metadata": {},
   "outputs": [],
   "source": [
    "prices=[]\n",
    "for i in price_tag:\n",
    "    price=i.text\n",
    "    prices.append(price)\n",
    "prices"
   ]
  },
  {
   "cell_type": "code",
   "execution_count": null,
   "id": "07c4f554",
   "metadata": {},
   "outputs": [],
   "source": [
    "df = pd.DataFrame({'Brand':brands,'Description':descriptions,'Price':prices})"
   ]
  },
  {
   "cell_type": "code",
   "execution_count": null,
   "id": "e53c45ca",
   "metadata": {},
   "outputs": [],
   "source": [
    "df"
   ]
  },
  {
   "cell_type": "code",
   "execution_count": null,
   "id": "5659d3ea",
   "metadata": {},
   "outputs": [],
   "source": [
    "# Question: 8 : Solution\n",
    "#scrape first 10 laptops data "
   ]
  },
  {
   "cell_type": "code",
   "execution_count": null,
   "id": "24782794",
   "metadata": {},
   "outputs": [],
   "source": [
    "import selenium\n",
    "import pandas as pd\n",
    "from selenium import webdriver"
   ]
  },
  {
   "cell_type": "code",
   "execution_count": null,
   "id": "c4252a33",
   "metadata": {},
   "outputs": [],
   "source": [
    "driver = webdriver.Chrome(r\"C:/Users/Anurag Kumar/OneDrive/Desktop/Internship/Web Scraping Assignment_2/chromedriver_win32/chromedriver.exe\")"
   ]
  },
  {
   "cell_type": "code",
   "execution_count": null,
   "id": "578ff459",
   "metadata": {},
   "outputs": [],
   "source": [
    "driver.get('https://www.amazon.in/s?k=laptop&crid=2EWUMYYIS22KC&sprefix=laptop%2Caps%2C201&ref=nb_sb_noss_2')"
   ]
  },
  {
   "cell_type": "code",
   "execution_count": null,
   "id": "9a374933",
   "metadata": {},
   "outputs": [],
   "source": [
    "driver.find_element_by_xpath('//*[@id=\"p_n_feature_thirteen_browse-bin/12598163031\"]/span/a/div/label/i').click()"
   ]
  },
  {
   "cell_type": "code",
   "execution_count": null,
   "id": "64ba4990",
   "metadata": {},
   "outputs": [],
   "source": [
    "titles=[]\n",
    "title = driver.find_elements_by_xpath('//span[@class=\"a-size-medium a-color-base a-text-normal\"]')\n",
    "titles[0:10]\n"
   ]
  },
  {
   "cell_type": "code",
   "execution_count": null,
   "id": "207f6d30",
   "metadata": {},
   "outputs": [],
   "source": [
    "for i in title:\n",
    "    tit = i.text\n",
    "    titles.append(tit)\n",
    "titles = titles[0:10]\n",
    "titles"
   ]
  },
  {
   "cell_type": "code",
   "execution_count": null,
   "id": "6baa377f",
   "metadata": {},
   "outputs": [],
   "source": [
    "prices=[]\n",
    "price = driver.find_elements_by_xpath('//span[@class=\"a-price-whole\"]')\n",
    "price[0:9]"
   ]
  },
  {
   "cell_type": "code",
   "execution_count": null,
   "id": "01ea2612",
   "metadata": {},
   "outputs": [],
   "source": [
    "for i in price:\n",
    "    pric=i.text\n",
    "    prices.append(pric)\n",
    "prices=prices[0:10]\n",
    "prices"
   ]
  },
  {
   "cell_type": "code",
   "execution_count": null,
   "id": "015e68fe",
   "metadata": {},
   "outputs": [],
   "source": [
    "ratings=[]\n",
    "rating = driver.find_elements_by_xpath(\"//div[@class='a-section a-spacing-none a-spacing-top-micro']//div[@class='a-row a-size-small']/span\")"
   ]
  },
  {
   "cell_type": "code",
   "execution_count": null,
   "id": "41a06b95",
   "metadata": {},
   "outputs": [],
   "source": [
    "for i in rating:\n",
    "    ratings.append(i.get_attribute('aria-label'))\n",
    "ratings = ratings[0:19:2]\n",
    "ratings"
   ]
  },
  {
   "cell_type": "code",
   "execution_count": null,
   "id": "b22270be",
   "metadata": {},
   "outputs": [],
   "source": [
    "print(len(titles),len(prices),len(ratings))"
   ]
  },
  {
   "cell_type": "code",
   "execution_count": null,
   "id": "69384853",
   "metadata": {},
   "outputs": [],
   "source": [
    "import pandas as pd\n",
    "data=pd.DataFrame({})\n",
    "data['Titles']=titles\n",
    "data['Prices']=prices\n",
    "data['Ratings']=ratings"
   ]
  },
  {
   "cell_type": "code",
   "execution_count": null,
   "id": "fb102a81",
   "metadata": {},
   "outputs": [],
   "source": [
    "data"
   ]
  },
  {
   "cell_type": "markdown",
   "id": "ea7b8740",
   "metadata": {},
   "source": [
    "Question: 9 : Solution"
   ]
  },
  {
   "cell_type": "code",
   "execution_count": null,
   "id": "69ef17c0",
   "metadata": {},
   "outputs": [],
   "source": [
    "#scrape data for first 10 job results for Data Scientist Designation in Noida location\n",
    "# scrape company name, No. of days ago when job was posted, Rating of the company"
   ]
  },
  {
   "cell_type": "code",
   "execution_count": null,
   "id": "6a633c75",
   "metadata": {},
   "outputs": [],
   "source": [
    "import selenium\n",
    "import pandas as pd\n",
    "from selenium import webdriver"
   ]
  },
  {
   "cell_type": "code",
   "execution_count": null,
   "id": "155ad7fa",
   "metadata": {},
   "outputs": [],
   "source": [
    "driver = webdriver.Chrome(r\"C:/Users/Anurag Kumar/OneDrive/Desktop/Internship/Web Scraping Assignment_2/chromedriver_win32/chromedriver.exe\")"
   ]
  },
  {
   "cell_type": "code",
   "execution_count": null,
   "id": "65d8ea99",
   "metadata": {},
   "outputs": [],
   "source": [
    "driver.get(\"https://www.ambitionbox.com/jobs/search?tag=Data%20Scientist&location=Noida\")"
   ]
  },
  {
   "cell_type": "code",
   "execution_count": null,
   "id": "068b2c93",
   "metadata": {},
   "outputs": [],
   "source": [
    "company_names=[]\n",
    "company_name = driver.find_elements_by_xpath('//p[@class=\"company body-medium\"]')"
   ]
  },
  {
   "cell_type": "code",
   "execution_count": null,
   "id": "489fbb6a",
   "metadata": {},
   "outputs": [],
   "source": [
    "for i in company_name:\n",
    "    j=i.text\n",
    "    company_names.append(j)\n",
    "company_names[0:9]"
   ]
  },
  {
   "cell_type": "code",
   "execution_count": null,
   "id": "b80b65ae",
   "metadata": {},
   "outputs": [],
   "source": [
    "days_ago=[]\n",
    "days = driver.find_elements_by_xpath('//span[@class=\"body-small-l\"]')"
   ]
  },
  {
   "cell_type": "code",
   "execution_count": null,
   "id": "86fa0f1e",
   "metadata": {},
   "outputs": [],
   "source": [
    "for i in days:\n",
    "    d=i.text\n",
    "    days_ago.append(d)\n",
    "days_ago[0:9]"
   ]
  },
  {
   "cell_type": "code",
   "execution_count": null,
   "id": "9ead2199",
   "metadata": {},
   "outputs": [],
   "source": [
    "ratings=[]\n",
    "rating = driver.find_elements_by_xpath('//span[@class=\"body-small\"]')"
   ]
  },
  {
   "cell_type": "code",
   "execution_count": null,
   "id": "2d406684",
   "metadata": {},
   "outputs": [],
   "source": [
    "for i in rating:\n",
    "    r=i.text\n",
    "    ratings.append(r)\n",
    "ratings[0:9]"
   ]
  },
  {
   "cell_type": "code",
   "execution_count": null,
   "id": "b8aca3ba",
   "metadata": {},
   "outputs": [],
   "source": [
    "print(len(company_names),len(days_ago),len(ratings))"
   ]
  },
  {
   "cell_type": "code",
   "execution_count": null,
   "id": "9b2fd52f",
   "metadata": {},
   "outputs": [],
   "source": [
    "import pandas as pd\n",
    "data=pd.DataFrame({})\n",
    "data['Company_names']=company_names\n",
    "data['Days_ago']=days_ago\n",
    "data['Ratings']=ratings"
   ]
  },
  {
   "cell_type": "code",
   "execution_count": null,
   "id": "6325d22c",
   "metadata": {},
   "outputs": [],
   "source": [
    "data"
   ]
  },
  {
   "cell_type": "markdown",
   "id": "5a5e8a79",
   "metadata": {},
   "source": [
    "Question: 10 : Solution"
   ]
  },
  {
   "cell_type": "code",
   "execution_count": null,
   "id": "22cf7028",
   "metadata": {},
   "outputs": [],
   "source": [
    "# scrape the salary data for Data Scientist designation\n",
    "# scrape Company name, Number of salaries, Average salary, Min salary, Max Salary."
   ]
  },
  {
   "cell_type": "code",
   "execution_count": null,
   "id": "2d394861",
   "metadata": {},
   "outputs": [],
   "source": [
    "import selenium\n",
    "import pandas as pd\n",
    "from selenium import webdriver"
   ]
  },
  {
   "cell_type": "code",
   "execution_count": null,
   "id": "01db55f9",
   "metadata": {},
   "outputs": [],
   "source": [
    "driver = webdriver.Chrome(r\"C:/Users/Anurag Kumar/OneDrive/Desktop/Internship/Web Scraping Assignment_2/chromedriver_win32/chromedriver.exe\")"
   ]
  },
  {
   "cell_type": "code",
   "execution_count": null,
   "id": "b7f278bf",
   "metadata": {},
   "outputs": [],
   "source": [
    "driver.get(\"https://www.ambitionbox.com/profile/data-scientist-salary\")"
   ]
  },
  {
   "cell_type": "code",
   "execution_count": null,
   "id": "fe7c7981",
   "metadata": {},
   "outputs": [],
   "source": [
    "company_name=[]\n",
    "name = driver.find_elements_by_xpath('//div[@class=\"name\"]')\n",
    "name[0:9]"
   ]
  },
  {
   "cell_type": "code",
   "execution_count": null,
   "id": "bf33704c",
   "metadata": {},
   "outputs": [],
   "source": [
    "for i in name:\n",
    "    c=i.text\n",
    "    company_name.append(c)\n",
    "company_name[0:9]"
   ]
  },
  {
   "cell_type": "code",
   "execution_count": null,
   "id": "352feba8",
   "metadata": {},
   "outputs": [],
   "source": [
    "experience=[]\n",
    "years = driver.find_elements_by_xpath('//div[@class=\"salaries one-line sbold-list-header\"]')\n",
    "years[0:9]"
   ]
  },
  {
   "cell_type": "code",
   "execution_count": null,
   "id": "aea64175",
   "metadata": {},
   "outputs": [],
   "source": [
    "for i in years:\n",
    "    e=i.text\n",
    "    experience.append(e)\n",
    "experience[0:9]"
   ]
  },
  {
   "cell_type": "code",
   "execution_count": null,
   "id": "67061307",
   "metadata": {},
   "outputs": [],
   "source": [
    "average =[]\n",
    "avg = driver.find_elements_by_xpath('//p[@class=\"averageCtc\"]')\n",
    "avg[0:9]"
   ]
  },
  {
   "cell_type": "code",
   "execution_count": null,
   "id": "62a52f22",
   "metadata": {},
   "outputs": [],
   "source": [
    "for i in avg:\n",
    "    s=i.text\n",
    "    average.append(s)\n",
    "average[0:9]"
   ]
  },
  {
   "cell_type": "code",
   "execution_count": null,
   "id": "e9a9dab3",
   "metadata": {},
   "outputs": [],
   "source": [
    "minimum =[]\n",
    "min = driver.find_elements_by_xpath('//div[@class=\"value body-medium\"]')\n",
    "min[0:9]"
   ]
  },
  {
   "cell_type": "code",
   "execution_count": null,
   "id": "808d4b8e",
   "metadata": {},
   "outputs": [],
   "source": [
    "for i in min:\n",
    "    m=i.text\n",
    "    minimum.append(m)\n",
    "minimum[0:9]"
   ]
  },
  {
   "cell_type": "code",
   "execution_count": null,
   "id": "119549fb",
   "metadata": {},
   "outputs": [],
   "source": [
    "maximum =[]\n",
    "max = driver.find_elements_by_xpath('//span[@class=\"card_text\"]')\n",
    "max[0:9]"
   ]
  },
  {
   "cell_type": "code",
   "execution_count": null,
   "id": "23b05bbd",
   "metadata": {},
   "outputs": [],
   "source": [
    "for i in max:\n",
    "    x=i.text\n",
    "    maximum.append(x)\n",
    "maximum[0:9]"
   ]
  },
  {
   "cell_type": "code",
   "execution_count": null,
   "id": "944f95fd",
   "metadata": {},
   "outputs": [],
   "source": [
    "print(len(company_name),len(minimum),len(maximum),len(average),len(experience))"
   ]
  },
  {
   "cell_type": "code",
   "execution_count": null,
   "id": "46f1714e",
   "metadata": {},
   "outputs": [],
   "source": [
    "import pandas as pd\n",
    "data=pd.DataFrame({})\n",
    "data['Company_names']=company_name\n",
    "data['maximum_salary']=maximum\n",
    "data['average_salary']=average\n",
    "data['minimum_salary']=minimum\n",
    "data['experience']=experience"
   ]
  },
  {
   "cell_type": "code",
   "execution_count": null,
   "id": "297411f8",
   "metadata": {},
   "outputs": [],
   "source": [
    "data"
   ]
  },
  {
   "cell_type": "code",
   "execution_count": null,
   "id": "091b8d23",
   "metadata": {},
   "outputs": [],
   "source": []
  },
  {
   "cell_type": "code",
   "execution_count": null,
   "id": "6355634d",
   "metadata": {},
   "outputs": [],
   "source": []
  }
 ],
 "metadata": {
  "kernelspec": {
   "display_name": "Python 3",
   "language": "python",
   "name": "python3"
  },
  "language_info": {
   "codemirror_mode": {
    "name": "ipython",
    "version": 3
   },
   "file_extension": ".py",
   "mimetype": "text/x-python",
   "name": "python",
   "nbconvert_exporter": "python",
   "pygments_lexer": "ipython3",
   "version": "3.8.8"
  }
 },
 "nbformat": 4,
 "nbformat_minor": 5
}
