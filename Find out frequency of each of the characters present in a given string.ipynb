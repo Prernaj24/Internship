{
 "cells": [
  {
   "cell_type": "code",
   "execution_count": null,
   "id": "34c1ce0c",
   "metadata": {},
   "outputs": [],
   "source": [
    "# using set() + count() to get count \n",
    "\n",
    "string =input(\"Enter the word / sentence: \")\n",
    "freq = {i : string.count(i) for i in set(string)}\n",
    "print (\"The count of all characters in Sentence is :\\n \" +  str(freq))"
   ]
  }
 ],
 "metadata": {
  "kernelspec": {
   "display_name": "Python 3",
   "language": "python",
   "name": "python3"
  },
  "language_info": {
   "codemirror_mode": {
    "name": "ipython",
    "version": 3
   },
   "file_extension": ".py",
   "mimetype": "text/x-python",
   "name": "python",
   "nbconvert_exporter": "python",
   "pygments_lexer": "ipython3",
   "version": "3.8.8"
  }
 },
 "nbformat": 4,
 "nbformat_minor": 5
}
