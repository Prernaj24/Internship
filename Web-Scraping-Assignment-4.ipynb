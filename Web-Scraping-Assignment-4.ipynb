{
 "cells": [
  {
   "cell_type": "code",
   "execution_count": 1,
   "id": "341f88c9",
   "metadata": {},
   "outputs": [],
   "source": [
    "import selenium\n",
    "import pandas as pd\n",
    "from selenium import webdriver\n",
    "import time\n",
    "from selenium.common.exceptions import StaleElementReferenceException, NoSuchElementException\n",
    "from selenium.webdriver.common.keys import Keys\n",
    "from selenium.webdriver.common.by import By\n",
    "import os\n",
    "import datetime\n",
    "from selenium.webdriver.support.ui import WebDriverWait\n",
    "from selenium.webdriver.support import expected_conditions as EC\n",
    "from selenium.webdriver.common.action_chains import ActionChains\n",
    "from selenium import webdriver"
   ]
  },
  {
   "cell_type": "code",
   "execution_count": 2,
   "id": "dfa849f1",
   "metadata": {},
   "outputs": [
    {
     "name": "stderr",
     "output_type": "stream",
     "text": [
      "C:\\Users\\PRERNA~1\\AppData\\Local\\Temp/ipykernel_22060/1149218278.py:1: DeprecationWarning: executable_path has been deprecated, please pass in a Service object\n",
      "  driver = webdriver.Chrome(r\"C:/Users/Prerna Jain/OneDrive/Desktop/Fliprobo Internship/chromedriver_win32/chromedriver.exe\")\n"
     ]
    }
   ],
   "source": [
    "driver = webdriver.Chrome(r\"C:/Users/Prerna Jain/OneDrive/Desktop/Fliprobo Internship/chromedriver_win32/chromedriver.exe\") "
   ]
  },
  {
   "cell_type": "markdown",
   "id": "5d6a9591",
   "metadata": {},
   "source": [
    "# Question-1"
   ]
  },
  {
   "cell_type": "code",
   "execution_count": 3,
   "id": "669f6c91",
   "metadata": {},
   "outputs": [],
   "source": [
    "time.sleep(4)\n",
    "url = \"https://en.wikipedia.org/wiki/List_of_most-viewed_YouTube_videos\"\n",
    "driver.get(url)\n",
    "time.sleep(6)"
   ]
  },
  {
   "cell_type": "code",
   "execution_count": 4,
   "id": "90406c84",
   "metadata": {},
   "outputs": [
    {
     "name": "stderr",
     "output_type": "stream",
     "text": [
      "C:\\Users\\PRERNA~1\\AppData\\Local\\Temp/ipykernel_22060/1889543880.py:1: DeprecationWarning: find_elements_by_* commands are deprecated. Please use find_elements() instead\n",
      "  element=driver.find_elements_by_xpath('/html/body/div[@id=\"content\"]/div[@id=\"bodyContent\"]/div[@id=\"mw-content-text\"]/div[@class=\"mw-parser-output\"]//table[@class=\"wikitable sortable jquery-tablesorter\"]')[0].find_elements_by_xpath(\"tbody\")[0].find_elements_by_xpath(\"tr\")\n",
      "C:\\Users\\Prerna Jain\\anaconda3\\lib\\site-packages\\selenium\\webdriver\\remote\\webelement.py:426: UserWarning: find_elements_by_* commands are deprecated. Please use find_elements() instead\n",
      "  warnings.warn(\"find_elements_by_* commands are deprecated. Please use find_elements() instead\")\n"
     ]
    }
   ],
   "source": [
    "element=driver.find_elements_by_xpath('/html/body/div[@id=\"content\"]/div[@id=\"bodyContent\"]/div[@id=\"mw-content-text\"]/div[@class=\"mw-parser-output\"]//table[@class=\"wikitable sortable jquery-tablesorter\"]')[0].find_elements_by_xpath(\"tbody\")[0].find_elements_by_xpath(\"tr\")\n",
    "# creating empty list\n",
    "rank=[]\n",
    "name=[]\n",
    "uploader=[]\n",
    "views=[]\n",
    "upload_date=[]\n",
    "n=0\n",
    "for i in element:\n",
    "    rank.append(i.find_elements_by_xpath(\"td\")[0].text)\n",
    "    name.append(i.find_elements_by_xpath(\"td\")[1].text)\n",
    "    uploader.append(i.find_elements_by_xpath(\"td\")[2].text)\n",
    "    views.append(i.find_elements_by_xpath(\"td\")[3].text)\n",
    "    upload_date.append(i.find_elements_by_xpath(\"td\")[4].text)"
   ]
  },
  {
   "cell_type": "code",
   "execution_count": 5,
   "id": "708cc2c1",
   "metadata": {},
   "outputs": [
    {
     "data": {
      "text/html": [
       "<div>\n",
       "<style scoped>\n",
       "    .dataframe tbody tr th:only-of-type {\n",
       "        vertical-align: middle;\n",
       "    }\n",
       "\n",
       "    .dataframe tbody tr th {\n",
       "        vertical-align: top;\n",
       "    }\n",
       "\n",
       "    .dataframe thead th {\n",
       "        text-align: right;\n",
       "    }\n",
       "</style>\n",
       "<table border=\"1\" class=\"dataframe\">\n",
       "  <thead>\n",
       "    <tr style=\"text-align: right;\">\n",
       "      <th></th>\n",
       "      <th>Rank</th>\n",
       "      <th>Name</th>\n",
       "      <th>Artist</th>\n",
       "      <th>Upload_Date</th>\n",
       "      <th>Views</th>\n",
       "    </tr>\n",
       "  </thead>\n",
       "  <tbody>\n",
       "    <tr>\n",
       "      <th>0</th>\n",
       "      <td>1.</td>\n",
       "      <td>\"Baby Shark Dance\"[3]</td>\n",
       "      <td>Pinkfong Baby Shark - Kids' Songs &amp; Stories</td>\n",
       "      <td>June 17, 2016</td>\n",
       "      <td>10.00</td>\n",
       "    </tr>\n",
       "    <tr>\n",
       "      <th>1</th>\n",
       "      <td>2.</td>\n",
       "      <td>\"Despacito\"[6]</td>\n",
       "      <td>Luis Fonsi</td>\n",
       "      <td>January 12, 2017</td>\n",
       "      <td>7.70</td>\n",
       "    </tr>\n",
       "    <tr>\n",
       "      <th>2</th>\n",
       "      <td>3.</td>\n",
       "      <td>\"Johny Johny Yes Papa\"[12]</td>\n",
       "      <td>LooLoo Kids</td>\n",
       "      <td>October 8, 2016</td>\n",
       "      <td>6.10</td>\n",
       "    </tr>\n",
       "    <tr>\n",
       "      <th>3</th>\n",
       "      <td>4.</td>\n",
       "      <td>\"Shape of You\"[13]</td>\n",
       "      <td>Ed Sheeran</td>\n",
       "      <td>January 30, 2017</td>\n",
       "      <td>5.58</td>\n",
       "    </tr>\n",
       "    <tr>\n",
       "      <th>4</th>\n",
       "      <td>5.</td>\n",
       "      <td>\"See You Again\"[15]</td>\n",
       "      <td>Wiz Khalifa</td>\n",
       "      <td>April 6, 2015</td>\n",
       "      <td>5.38</td>\n",
       "    </tr>\n",
       "    <tr>\n",
       "      <th>5</th>\n",
       "      <td>6.</td>\n",
       "      <td>\"Bath Song\"[20]</td>\n",
       "      <td>Cocomelon – Nursery Rhymes</td>\n",
       "      <td>May 2, 2018</td>\n",
       "      <td>4.86</td>\n",
       "    </tr>\n",
       "    <tr>\n",
       "      <th>6</th>\n",
       "      <td>7.</td>\n",
       "      <td>\"Learning Colors – Colorful Eggs on a Farm\"[21]</td>\n",
       "      <td>Miroshka TV</td>\n",
       "      <td>February 27, 2018</td>\n",
       "      <td>4.55</td>\n",
       "    </tr>\n",
       "    <tr>\n",
       "      <th>7</th>\n",
       "      <td>8.</td>\n",
       "      <td>\"Masha and the Bear – Recipe for Disaster\"[22]</td>\n",
       "      <td>Get Movies</td>\n",
       "      <td>January 31, 2012</td>\n",
       "      <td>4.48</td>\n",
       "    </tr>\n",
       "    <tr>\n",
       "      <th>8</th>\n",
       "      <td>9.</td>\n",
       "      <td>\"Uptown Funk\"[23]</td>\n",
       "      <td>Mark Ronson</td>\n",
       "      <td>November 19, 2014</td>\n",
       "      <td>4.42</td>\n",
       "    </tr>\n",
       "    <tr>\n",
       "      <th>9</th>\n",
       "      <td>10.</td>\n",
       "      <td>\"Phonics Song with Two Words\"[24]</td>\n",
       "      <td>ChuChu TV</td>\n",
       "      <td>March 6, 2014</td>\n",
       "      <td>4.41</td>\n",
       "    </tr>\n",
       "    <tr>\n",
       "      <th>10</th>\n",
       "      <td>11.</td>\n",
       "      <td>\"Gangnam Style\"[25]</td>\n",
       "      <td>Psy</td>\n",
       "      <td>July 15, 2012</td>\n",
       "      <td>4.31</td>\n",
       "    </tr>\n",
       "    <tr>\n",
       "      <th>11</th>\n",
       "      <td>12.</td>\n",
       "      <td>\"Dame Tu Cosita\"[30]</td>\n",
       "      <td>El Chombo</td>\n",
       "      <td>April 5, 2018</td>\n",
       "      <td>3.80</td>\n",
       "    </tr>\n",
       "    <tr>\n",
       "      <th>12</th>\n",
       "      <td>13.</td>\n",
       "      <td>\"Sugar\"[31]</td>\n",
       "      <td>Maroon 5</td>\n",
       "      <td>January 14, 2015</td>\n",
       "      <td>3.62</td>\n",
       "    </tr>\n",
       "    <tr>\n",
       "      <th>13</th>\n",
       "      <td>14.</td>\n",
       "      <td>\"Sorry\"[32]</td>\n",
       "      <td>Justin Bieber</td>\n",
       "      <td>October 22, 2015</td>\n",
       "      <td>3.50</td>\n",
       "    </tr>\n",
       "    <tr>\n",
       "      <th>14</th>\n",
       "      <td>15.</td>\n",
       "      <td>\"Roar\"[33]</td>\n",
       "      <td>Katy Perry</td>\n",
       "      <td>September 5, 2013</td>\n",
       "      <td>3.50</td>\n",
       "    </tr>\n",
       "    <tr>\n",
       "      <th>15</th>\n",
       "      <td>16.</td>\n",
       "      <td>\"Wheels on the Bus\"[34]</td>\n",
       "      <td>Cocomelon – Nursery Rhymes</td>\n",
       "      <td>May 24, 2018</td>\n",
       "      <td>3.50</td>\n",
       "    </tr>\n",
       "    <tr>\n",
       "      <th>16</th>\n",
       "      <td>17.</td>\n",
       "      <td>\"Counting Stars\"[35]</td>\n",
       "      <td>OneRepublic</td>\n",
       "      <td>May 31, 2013</td>\n",
       "      <td>3.48</td>\n",
       "    </tr>\n",
       "    <tr>\n",
       "      <th>17</th>\n",
       "      <td>18.</td>\n",
       "      <td>\"Thinking Out Loud\"[36]</td>\n",
       "      <td>Ed Sheeran</td>\n",
       "      <td>October 7, 2014</td>\n",
       "      <td>3.39</td>\n",
       "    </tr>\n",
       "    <tr>\n",
       "      <th>18</th>\n",
       "      <td>19.</td>\n",
       "      <td>\"Girls Like You\"[37]</td>\n",
       "      <td>Maroon 5</td>\n",
       "      <td>May 31, 2018</td>\n",
       "      <td>3.21</td>\n",
       "    </tr>\n",
       "    <tr>\n",
       "      <th>19</th>\n",
       "      <td>20.</td>\n",
       "      <td>\"Faded\"[38]</td>\n",
       "      <td>Alan Walker</td>\n",
       "      <td>December 3, 2015</td>\n",
       "      <td>3.21</td>\n",
       "    </tr>\n",
       "    <tr>\n",
       "      <th>20</th>\n",
       "      <td>21.</td>\n",
       "      <td>\"Dark Horse\"[39]</td>\n",
       "      <td>Katy Perry</td>\n",
       "      <td>February 20, 2014</td>\n",
       "      <td>3.21</td>\n",
       "    </tr>\n",
       "    <tr>\n",
       "      <th>21</th>\n",
       "      <td>22.</td>\n",
       "      <td>\"Axel F\"[40]</td>\n",
       "      <td>Crazy Frog</td>\n",
       "      <td>June 16, 2009</td>\n",
       "      <td>3.17</td>\n",
       "    </tr>\n",
       "    <tr>\n",
       "      <th>22</th>\n",
       "      <td>23.</td>\n",
       "      <td>\"Let Her Go\"[41]</td>\n",
       "      <td>Passenger</td>\n",
       "      <td>July 25, 2012</td>\n",
       "      <td>3.15</td>\n",
       "    </tr>\n",
       "    <tr>\n",
       "      <th>23</th>\n",
       "      <td>24.</td>\n",
       "      <td>\"Bailando\"[42]</td>\n",
       "      <td>Enrique Iglesias</td>\n",
       "      <td>April 11, 2014</td>\n",
       "      <td>3.15</td>\n",
       "    </tr>\n",
       "    <tr>\n",
       "      <th>24</th>\n",
       "      <td>25.</td>\n",
       "      <td>\"Lean On\"[43]</td>\n",
       "      <td>Major Lazer</td>\n",
       "      <td>March 22, 2015</td>\n",
       "      <td>3.15</td>\n",
       "    </tr>\n",
       "    <tr>\n",
       "      <th>25</th>\n",
       "      <td>26.</td>\n",
       "      <td>\"Shake It Off\"[44]</td>\n",
       "      <td>Taylor Swift</td>\n",
       "      <td>August 18, 2014</td>\n",
       "      <td>3.13</td>\n",
       "    </tr>\n",
       "    <tr>\n",
       "      <th>26</th>\n",
       "      <td>27.</td>\n",
       "      <td>\"Baa Baa Black Sheep\"[45]</td>\n",
       "      <td>Cocomelon – Nursery Rhymes</td>\n",
       "      <td>June 25, 2018</td>\n",
       "      <td>3.07</td>\n",
       "    </tr>\n",
       "    <tr>\n",
       "      <th>27</th>\n",
       "      <td>28.</td>\n",
       "      <td>\"Perfect\"[46]</td>\n",
       "      <td>Ed Sheeran</td>\n",
       "      <td>November 9, 2017</td>\n",
       "      <td>3.06</td>\n",
       "    </tr>\n",
       "    <tr>\n",
       "      <th>28</th>\n",
       "      <td>29.</td>\n",
       "      <td>\"Waka Waka (This Time for Africa)\"[47]</td>\n",
       "      <td>Shakira</td>\n",
       "      <td>June 4, 2010</td>\n",
       "      <td>3.03</td>\n",
       "    </tr>\n",
       "    <tr>\n",
       "      <th>29</th>\n",
       "      <td>30.</td>\n",
       "      <td>\"Mi Gente\"[48]</td>\n",
       "      <td>J Balvin</td>\n",
       "      <td>June 29, 2017</td>\n",
       "      <td>3.03</td>\n",
       "    </tr>\n",
       "  </tbody>\n",
       "</table>\n",
       "</div>"
      ],
      "text/plain": [
       "   Rank                                             Name  \\\n",
       "0    1.                            \"Baby Shark Dance\"[3]   \n",
       "1    2.                                   \"Despacito\"[6]   \n",
       "2    3.                       \"Johny Johny Yes Papa\"[12]   \n",
       "3    4.                               \"Shape of You\"[13]   \n",
       "4    5.                              \"See You Again\"[15]   \n",
       "5    6.                                  \"Bath Song\"[20]   \n",
       "6    7.  \"Learning Colors – Colorful Eggs on a Farm\"[21]   \n",
       "7    8.   \"Masha and the Bear – Recipe for Disaster\"[22]   \n",
       "8    9.                                \"Uptown Funk\"[23]   \n",
       "9   10.                \"Phonics Song with Two Words\"[24]   \n",
       "10  11.                              \"Gangnam Style\"[25]   \n",
       "11  12.                             \"Dame Tu Cosita\"[30]   \n",
       "12  13.                                      \"Sugar\"[31]   \n",
       "13  14.                                      \"Sorry\"[32]   \n",
       "14  15.                                       \"Roar\"[33]   \n",
       "15  16.                          \"Wheels on the Bus\"[34]   \n",
       "16  17.                             \"Counting Stars\"[35]   \n",
       "17  18.                          \"Thinking Out Loud\"[36]   \n",
       "18  19.                             \"Girls Like You\"[37]   \n",
       "19  20.                                      \"Faded\"[38]   \n",
       "20  21.                                 \"Dark Horse\"[39]   \n",
       "21  22.                                     \"Axel F\"[40]   \n",
       "22  23.                                 \"Let Her Go\"[41]   \n",
       "23  24.                                   \"Bailando\"[42]   \n",
       "24  25.                                    \"Lean On\"[43]   \n",
       "25  26.                               \"Shake It Off\"[44]   \n",
       "26  27.                        \"Baa Baa Black Sheep\"[45]   \n",
       "27  28.                                    \"Perfect\"[46]   \n",
       "28  29.           \"Waka Waka (This Time for Africa)\"[47]   \n",
       "29  30.                                   \"Mi Gente\"[48]   \n",
       "\n",
       "                                         Artist        Upload_Date  Views  \n",
       "0   Pinkfong Baby Shark - Kids' Songs & Stories      June 17, 2016  10.00  \n",
       "1                                    Luis Fonsi   January 12, 2017   7.70  \n",
       "2                                   LooLoo Kids    October 8, 2016   6.10  \n",
       "3                                    Ed Sheeran   January 30, 2017   5.58  \n",
       "4                                   Wiz Khalifa      April 6, 2015   5.38  \n",
       "5                    Cocomelon – Nursery Rhymes        May 2, 2018   4.86  \n",
       "6                                   Miroshka TV  February 27, 2018   4.55  \n",
       "7                                    Get Movies   January 31, 2012   4.48  \n",
       "8                                   Mark Ronson  November 19, 2014   4.42  \n",
       "9                                     ChuChu TV      March 6, 2014   4.41  \n",
       "10                                          Psy      July 15, 2012   4.31  \n",
       "11                                    El Chombo      April 5, 2018   3.80  \n",
       "12                                     Maroon 5   January 14, 2015   3.62  \n",
       "13                                Justin Bieber   October 22, 2015   3.50  \n",
       "14                                   Katy Perry  September 5, 2013   3.50  \n",
       "15                   Cocomelon – Nursery Rhymes       May 24, 2018   3.50  \n",
       "16                                  OneRepublic       May 31, 2013   3.48  \n",
       "17                                   Ed Sheeran    October 7, 2014   3.39  \n",
       "18                                     Maroon 5       May 31, 2018   3.21  \n",
       "19                                  Alan Walker   December 3, 2015   3.21  \n",
       "20                                   Katy Perry  February 20, 2014   3.21  \n",
       "21                                   Crazy Frog      June 16, 2009   3.17  \n",
       "22                                    Passenger      July 25, 2012   3.15  \n",
       "23                             Enrique Iglesias     April 11, 2014   3.15  \n",
       "24                                  Major Lazer     March 22, 2015   3.15  \n",
       "25                                 Taylor Swift    August 18, 2014   3.13  \n",
       "26                   Cocomelon – Nursery Rhymes      June 25, 2018   3.07  \n",
       "27                                   Ed Sheeran   November 9, 2017   3.06  \n",
       "28                                      Shakira       June 4, 2010   3.03  \n",
       "29                                     J Balvin      June 29, 2017   3.03  "
      ]
     },
     "execution_count": 5,
     "metadata": {},
     "output_type": "execute_result"
    }
   ],
   "source": [
    "# creating data frame\n",
    "df =pd.DataFrame({'Rank':rank,'Name':name,'Artist':uploader,'Upload_Date':upload_date,'Views':views})\n",
    "df"
   ]
  },
  {
   "cell_type": "markdown",
   "id": "72892d90",
   "metadata": {},
   "source": [
    "# Question-2"
   ]
  },
  {
   "cell_type": "code",
   "execution_count": null,
   "id": "6a5963b6",
   "metadata": {},
   "outputs": [],
   "source": [
    "driver = webdriver.Chrome(r\"C:/Users/Prerna Jain/OneDrive/Desktop/Fliprobo Internship/chromedriver_win32/chromedriver.exe\") "
   ]
  },
  {
   "cell_type": "code",
   "execution_count": null,
   "id": "a94f22e1",
   "metadata": {},
   "outputs": [],
   "source": [
    "url = \"https://www.bcci.tv/\"\n",
    "driver.get(url)\n",
    "driver.implicitly_wait(20)"
   ]
  },
  {
   "cell_type": "code",
   "execution_count": null,
   "id": "971126fb",
   "metadata": {},
   "outputs": [],
   "source": [
    "International=driver.find_elements_by_xpath('//div[@class=\"navigation__drop-down drop-down drop-down--reveal-on-hover\"]')\n",
    "International[0].click()\n",
    "International_fixture=driver.find_elements_by_xpath('//a[@href=\"/international/fixtures\" and @class=\"navigation__link navigation__link--in-drop-down\"]')\n",
    "International_fixture[0].click()\n",
    "schedule_odi=driver.find_elements_by_xpath('//a[@class=\"js-match event-list__item event-list-item fixture  t-odi fixture--long event-list-item--long\"]')\n",
    "schedule_odi_list = list(map(lambda x:[x.text.split('\\n')[6],x.text.split('\\n')[5],x.text.split('\\n')[7]+' '+x.text.split('\\n')[8],x.text.split('\\n')[1]+' '+x.text.split('\\n')[2],x.text.split('\\n')[3]],schedule_odi))\n",
    "schedule_t20i=driver.find_elements_by_xpath('//a[@class=\"js-match event-list__item event-list-item fixture  t-t20i fixture--long event-list-item--long\"]')\n",
    "schedule_t20i_list = list(map(lambda x:[x.text.split('\\n')[6],x.text.split('\\n')[5],x.text.split('\\n')[7]+' '+x.text.split('\\n')[8],x.text.split('\\n')[1]+' '+x.text.split('\\n')[2],x.text.split('\\n')[3]],schedule_t20i))\n",
    "schedule_test=driver.find_elements_by_xpath('//a[@class=\"js-match event-list__item event-list-item fixture  t-test fixture--long event-list-item--long\"]')\n",
    "schedule_test_list = list(map(lambda x:[x.text.split('\\n')[6],x.text.split('\\n')[5],x.text.split('\\n')[7]+' '+x.text.split('\\n')[8],x.text.split('\\n')[1]+' '+x.text.split('\\n')[2],x.text.split('\\n')[3]],schedule_test))\n",
    "All_Match = schedule_test_list + schedule_t20i_list + schedule_odi_list\n",
    "#Creating empty list\n",
    "Title=[]\n",
    "Series=[]\n",
    "Place=[]\n",
    "Date=[]\n",
    "Time=[]\n",
    "for i in All_Match:\n",
    "    Title.append(i[0])\n",
    "    Series.append(i[1])\n",
    "    Place.append(i[2])\n",
    "    Date.append(i[3])\n",
    "    Time.append(i[4])"
   ]
  },
  {
   "cell_type": "code",
   "execution_count": null,
   "id": "f0026635",
   "metadata": {},
   "outputs": [],
   "source": [
    "#creating dataframe\n",
    "df = pd.DataFrame({'Title':Title,'Series':Series,'Place':Place,'Date':Date,'Time':Time})\n",
    "df"
   ]
  },
  {
   "cell_type": "markdown",
   "id": "1269f3e8",
   "metadata": {},
   "source": [
    "# Question 3"
   ]
  },
  {
   "cell_type": "code",
   "execution_count": null,
   "id": "b0f85566",
   "metadata": {},
   "outputs": [],
   "source": [
    "driver = webdriver.Chrome(r\"C:/Users/Prerna Jain/OneDrive/Desktop/Fliprobo Internship/chromedriver_win32/chromedriver.exe\") "
   ]
  },
  {
   "cell_type": "code",
   "execution_count": null,
   "id": "c15b65c4",
   "metadata": {},
   "outputs": [],
   "source": [
    "url = \"https://www.guru99.com/\"\n",
    "driver.get(url)\n",
    "\n",
    "time.sleep(2) #wait for 2 m.s.\n",
    "\n",
    "text1 = driver.find_elements_by_xpath(\"//li[@class='fa fa-chevron-circle-right']\") #Looking for Selenium\n",
    "text2 = driver.find_elements_by_xpath(\"//li[@class='fa fa-chevron-circle-right']/a\") #Looking for Hyperlink\n",
    "leng = len(text1)\n",
    "for i in range(0,leng):\n",
    "    if(text1[i].text == \"Selenium\"): #If selenium found open the link and break the loop\n",
    "        url = text2[i].get_attribute('href')\n",
    "        break\n",
    "driver.get(url)\n",
    "time.sleep(4)\n",
    "\n",
    "link1 = driver.find_elements_by_xpath(\"//table[@class='table'][5]/tbody/tr/td[2]\") #Looking for Selenium Exception Handling\n",
    "link2 = driver.find_elements_by_xpath(\"//table[@class='table'][5]/tbody/tr/td[1]/a\") #Looking for Hyperlink\n",
    "leng = len(link1)\n",
    "for i in range(0,leng): #If found Exception Handling than open the link and break the loop\n",
    "    if(link1[i].text == \"Selenium Exception Handling (Common Exceptions List)\"):\n",
    "        url = link2[i].get_attribute('href')\n",
    "        break\n",
    "driver.get(url)\n",
    "time.sleep(4)\n",
    "\n",
    "Name = []\n",
    "Desc = []\n",
    "for i in range(2,43):\n",
    "    link1 = driver.find_element_by_xpath(\"//table[@class='table table-striped']/tbody/tr[\"+str(i)+\"]/td[1]\") #Exception Name\n",
    "    link2 = driver.find_element_by_xpath(\"//table[@class='table table-striped']/tbody/tr[\"+str(i)+\"]/td[2]\") #Description\n",
    "    Name.append(link1.text)\n",
    "    Desc.append(link2.text)\n",
    "    \n",
    "Exceptions=pd.DataFrame({}) #DataFrame\n",
    "Exceptions['Exception name'] = Name\n",
    "Exceptions['Description'] = Desc\n",
    "Exceptions"
   ]
  },
  {
   "cell_type": "code",
   "execution_count": null,
   "id": "8ce7693c",
   "metadata": {},
   "outputs": [],
   "source": [
    "# Creating dataframe\n",
    "Exceptions=pd.DataFrame({})\n",
    "Exceptions['Exception name'] = Name\n",
    "Exceptions['Description'] = Desc\n",
    "Exceptions"
   ]
  },
  {
   "cell_type": "markdown",
   "id": "3b70c094",
   "metadata": {},
   "source": [
    "# Question 4"
   ]
  },
  {
   "cell_type": "code",
   "execution_count": null,
   "id": "e4b7566f",
   "metadata": {},
   "outputs": [],
   "source": [
    "driver = webdriver.Chrome(r\"C:/Users/Prerna Jain/OneDrive/Desktop/Fliprobo Internship/chromedriver_win32/chromedriver.exe\") "
   ]
  },
  {
   "cell_type": "code",
   "execution_count": null,
   "id": "12b25a0d",
   "metadata": {},
   "outputs": [],
   "source": [
    "time.sleep(4)\n",
    "url = \"http://statisticstimes.com/\"\n",
    "driver.get(url)\n",
    "time.sleep(6)"
   ]
  },
  {
   "cell_type": "code",
   "execution_count": null,
   "id": "a171e075",
   "metadata": {},
   "outputs": [],
   "source": [
    "Economy = driver.find_elements_by_xpath('//div[@class=\"dropdown\"]')[1]\n",
    "hover = ActionChains(driver).move_to_element(Economy)\n",
    "hover.perform()"
   ]
  },
  {
   "cell_type": "code",
   "execution_count": null,
   "id": "f7d745ff",
   "metadata": {},
   "outputs": [],
   "source": [
    "GDP = driver.find_element_by_xpath(\"//a[@href='economy/india-statistics.php']\")\n",
    "GDP.click()"
   ]
  },
  {
   "cell_type": "code",
   "execution_count": null,
   "id": "268706d8",
   "metadata": {},
   "outputs": [],
   "source": [
    "Table = driver.find_element_by_xpath(\"//table[@id='table_id' and @class='display dataTable']//tbody//tr\")\n",
    "Table = list(map(lambda x:[x.find_elements_by_xpath('td')[0].text,x.find_elements_by_xpath('td')[1].text,x.find_elements_by_xpath('td')[2].text,x.find_elements_by_xpath('td')[3].text,x.find_elements_by_xpath('td')[4].text,x.find_elements_by_xpath('td')[5].text,x.find_elements_by_xpath('td')[6].text,x.find_elements_by_xpath('td')[7].text],driver.find_elements_by_xpath(\"//table[@id='table_id' and @class='display dataTable']//tbody//tr\")))"
   ]
  },
  {
   "cell_type": "code",
   "execution_count": null,
   "id": "14a3e9bc",
   "metadata": {},
   "outputs": [],
   "source": [
    "rank=[]\n",
    "state=[]\n",
    "gsdp_19_20=[]\n",
    "gsdp_18_19=[]\n",
    "Share_2018=[]\n",
    "GDP=[]\n",
    "\n",
    "for i in Table:\n",
    "    rank.append(i[0])\n",
    "    state.append(i[1])\n",
    "    gsdp_19_20.append(i[3])\n",
    "    gsdp_18_19.append(i[3])\n",
    "    Share_2018.append(i[4])\n",
    "    GDP.append(i[5])"
   ]
  },
  {
   "cell_type": "code",
   "execution_count": null,
   "id": "233579d4",
   "metadata": {},
   "outputs": [],
   "source": [
    "df = pd.DataFrame({'Rank':rank,'StateName':state,'GSDP_19_20':gsdp_19_20,'GSDP_18_19':gsdp_18_19,'Share':Share_2018,'GDP $billion':GDP})\n",
    "df"
   ]
  },
  {
   "cell_type": "markdown",
   "id": "3cec5242",
   "metadata": {},
   "source": [
    "# Question-5"
   ]
  },
  {
   "cell_type": "code",
   "execution_count": null,
   "id": "98137706",
   "metadata": {},
   "outputs": [],
   "source": [
    "from selenium import webdriver\n",
    "from selenium.webdriver.common.keys import Keys\n",
    "from selenium.webdriver.common.by import By\n",
    "import pandas as pd\n",
    "import os\n",
    "import datetime\n",
    "from selenium.webdriver.support.ui import WebDriverWait\n",
    "from selenium.webdriver.support import expected_conditions as EC\n",
    "from selenium.webdriver.common.action_chains import ActionChains\n",
    "from selenium import webdriver"
   ]
  },
  {
   "cell_type": "code",
   "execution_count": null,
   "id": "696ce7c7",
   "metadata": {},
   "outputs": [],
   "source": [
    "driver = webdriver.Chrome(r\"C:/Users/Prerna Jain/OneDrive/Desktop/Fliprobo Internship/chromedriver_win32/chromedriver.exe\") "
   ]
  },
  {
   "cell_type": "code",
   "execution_count": null,
   "id": "fa74ad1c",
   "metadata": {},
   "outputs": [],
   "source": [
    "time.sleep(4)\n",
    "url = \"https://github.com/\"\n",
    "driver.get(url)\n",
    "time.sleep(6)"
   ]
  },
  {
   "cell_type": "code",
   "execution_count": null,
   "id": "24d7782e",
   "metadata": {},
   "outputs": [],
   "source": [
    "Explore = driver.find_elements_by_xpath('//summary[@class=\"HeaderMenu-summary HeaderMenu-link px-0 py-3 border-0 no-wrap d-block d-lg-inline-block\"]')[1]\n",
    "#hover = ActionChains(driver).move_to_element(Explore)\n",
    "#hover.perform()\n",
    "Explore.click()"
   ]
  },
  {
   "cell_type": "code",
   "execution_count": null,
   "id": "ab506968",
   "metadata": {},
   "outputs": [],
   "source": [
    "rows = driver.find_elements_by_xpath('//article[@class=\"Box-row\"]')\n",
    "Title=[]\n",
    "Description=[]\n",
    "Contributor=[]\n",
    "Language=[]\n",
    "for i in rows:\n",
    "    Title.append(i.find_element_by_xpath('h1').text)\n",
    "    Language.append(i.find_elements_by_xpath('div/span')[0].text)\n",
    "    try:\n",
    "        Contributor.append(len(i.find_elements_by_xpath('div/span')[1].find_elements_by_xpath('a')))\n",
    "    except:\n",
    "        Contributor.append(0)\n",
    "        Language.append(i.find_elements_by_xpath('//p[@class=\"col-9 color-text-secondary my-1 pr-4\"]')[0].text)"
   ]
  },
  {
   "cell_type": "code",
   "execution_count": null,
   "id": "e4d43a25",
   "metadata": {},
   "outputs": [],
   "source": [
    "df=pd.DataFrame({'Title':Title,'Contributor':Contributor,'Language':Language})\n",
    "df"
   ]
  },
  {
   "cell_type": "markdown",
   "id": "563baf2e",
   "metadata": {},
   "source": [
    "# Question-6"
   ]
  },
  {
   "cell_type": "code",
   "execution_count": null,
   "id": "53463728",
   "metadata": {},
   "outputs": [],
   "source": [
    "driver = webdriver.Chrome(r\"C:/Users/Prerna Jain/OneDrive/Desktop/Fliprobo Internship/chromedriver_win32/chromedriver.exe\") "
   ]
  },
  {
   "cell_type": "code",
   "execution_count": null,
   "id": "aefe70da",
   "metadata": {},
   "outputs": [],
   "source": [
    "url = \"https://www.billboard.com/\"\n",
    "driver.get(url)\n",
    "driver.implicitly_wait(20)"
   ]
  },
  {
   "cell_type": "code",
   "execution_count": null,
   "id": "49102a46",
   "metadata": {},
   "outputs": [],
   "source": [
    "Hot_100 = driver.find_elements_by_xpath('//a[@class=\"header__subnav__link text--uppercase font--semi-bold\"]')[2]\n",
    "Hot_100.click()\n",
    "rows = driver.find_elements_by_xpath('//button[@class=\"chart-element__wrapper display--flex flex--grow sort--this-week\"]')\n",
    "#Creating empty list\n",
    "Song_Name=[]\n",
    "Artist_Name=[]\n",
    "Last_week_rank=[]\n",
    "Peak_rank=[]\n",
    "Weeks_on_board=[]\n",
    "for i in rows:\n",
    "    Song_Name.append(i.find_element_by_xpath('span[@class=\"chart-element__information\"]/span[@class=\"chart-element__information__song text--truncate color--primary\"]').text)\n",
    "    Artist_Name.append(i.find_element_by_xpath('span[@class=\"chart-element__information\"]/span[@class=\"chart-element__information__artist text--truncate color--secondary\"]').text)\n",
    "    Last_week_rank.append(i.find_element_by_xpath('div[@class=\"chart-element__metas chart-element__metas--large display--flex flex--y-center\"]/div[@class=\"chart-element__meta text--center color--secondary text--last\"]').text)\n",
    "    Peak_rank.append(i.find_element_by_xpath('div[@class=\"chart-element__metas chart-element__metas--large display--flex flex--y-center\"]/div[@class=\"chart-element__meta text--center color--secondary text--peak\"]').text)\n",
    "    Weeks_on_board.append(i.find_element_by_xpath('div[@class=\"chart-element__metas chart-element__metas--large display--flex flex--y-center\"]/div[@class=\"chart-element__meta text--center color--secondary text--week\"]').text)\n",
    "\n"
   ]
  },
  {
   "cell_type": "code",
   "execution_count": null,
   "id": "fa5532b0",
   "metadata": {},
   "outputs": [],
   "source": [
    "#creating dataframe\n",
    "df=pd.DataFrame({'Song_Name':Song_Name,'Artist_Name':Artist_Name,'Last_week_rank':Last_week_rank,'Peak_rank':Peak_rank,'Weeks_on_board':Weeks_on_board})\n",
    "df"
   ]
  },
  {
   "cell_type": "markdown",
   "id": "5b4e5039",
   "metadata": {},
   "source": [
    "# Question-7"
   ]
  },
  {
   "cell_type": "code",
   "execution_count": 21,
   "id": "d466a3ea",
   "metadata": {},
   "outputs": [
    {
     "name": "stderr",
     "output_type": "stream",
     "text": [
      "C:\\Users\\PRERNA~1\\AppData\\Local\\Temp/ipykernel_22060/1149218278.py:1: DeprecationWarning: executable_path has been deprecated, please pass in a Service object\n",
      "  driver = webdriver.Chrome(r\"C:/Users/Prerna Jain/OneDrive/Desktop/Fliprobo Internship/chromedriver_win32/chromedriver.exe\")\n"
     ]
    }
   ],
   "source": [
    "driver = webdriver.Chrome(r\"C:/Users/Prerna Jain/OneDrive/Desktop/Fliprobo Internship/chromedriver_win32/chromedriver.exe\") "
   ]
  },
  {
   "cell_type": "code",
   "execution_count": 22,
   "id": "596458fb",
   "metadata": {},
   "outputs": [],
   "source": [
    "url = 'https://www.naukri.com/' \n",
    "driver.get(url)\n",
    "time.sleep(2)"
   ]
  },
  {
   "cell_type": "code",
   "execution_count": null,
   "id": "3a0daa79",
   "metadata": {},
   "outputs": [],
   "source": [
    "Recut=driver.find_element_by_xpath(\"//ul[@class='midSec menu']/li[2]/a\")\n",
    "driver.get(Recut.get_attribute('href')) \n",
    "time.sleep(2)"
   ]
  },
  {
   "cell_type": "code",
   "execution_count": null,
   "id": "df8e9f56",
   "metadata": {},
   "outputs": [],
   "source": [
    "search_job = driver.find_element_by_xpath(\"//input[@class='sugInp']\") \n",
    "search_job.send_keys(\"Data science\") "
   ]
  },
  {
   "cell_type": "code",
   "execution_count": null,
   "id": "606b2f1c",
   "metadata": {},
   "outputs": [],
   "source": [
    "search_btn = driver.find_element_by_xpath(\"//button[@class='fl qsbSrch blueBtn']\") #submit button\n",
    "search_btn.click()\n",
    "time.sleep(2)"
   ]
  },
  {
   "cell_type": "code",
   "execution_count": null,
   "id": "4ae703f5",
   "metadata": {},
   "outputs": [],
   "source": [
    "Name = []\n",
    "Designation = []\n",
    "Company = []\n",
    "Skills_they_hire_for = []\n",
    "Location = []\n",
    "for i in range(1,26): # 50 Recruiter are there in pair of 2 so we'll run the loop from 1 to 26\n",
    "    link1 = driver.find_element_by_xpath(\"//div[@class='outerRecSec'][\"+str(i)+\"]/div[1]/div/div/p/a[1]/span\") #Name\n",
    "    Name.append(link1.text)\n",
    "    link2 = driver.find_element_by_xpath(\"//div[@class='outerRecSec'][\"+str(i)+\"]/div[2]/div/div/p/a[1]/span\") #Name\n",
    "    Name.append(link2.text)\n",
    "    link1 = driver.find_element_by_xpath(\"//div[@class='outerRecSec'][\"+str(i)+\"]/div[1]/div/div/p/span[1]\") #Designation\n",
    "    Designation.append(link1.text)\n",
    "    link2 = driver.find_element_by_xpath(\"//div[@class='outerRecSec'][\"+str(i)+\"]/div[2]/div/div/p/span[1]\") #Designation\n",
    "    Designation.append(link2.text)\n",
    "    link1 = driver.find_element_by_xpath(\"//div[@class='outerRecSec'][\"+str(i)+\"]/div[1]/div/div/p/a[2]\") #Company\n",
    "    Company.append(link1.text)\n",
    "    link2 = driver.find_element_by_xpath(\"//div[@class='outerRecSec'][\"+str(i)+\"]/div[2]/div/div/p/a[2]\") #Company\n",
    "    Company.append(link2.text)\n",
    "    try:\n",
    "        link1 = driver.find_element_by_xpath(\"//div[@class='outerRecSec'][\"+str(i)+\"]/div[1]/div/div/p/span[2]/small\") #Location\n",
    "        Location.append(link1.text)\n",
    "    except NoSuchElementException as e:\n",
    "        Location.append(\"-\") #If not found add \"-\"\n",
    "    try:\n",
    "        link2 = driver.find_element_by_xpath(\"//div[@class='outerRecSec'][\"+str(i)+\"]/div[2]/div/div/p/span[2]/small\") #Location\n",
    "        Location.append(link2.text)\n",
    "    except NoSuchElementException as e:\n",
    "        Location.append(\"-\") #If not found add \"-\"\n",
    "    link1 = driver.find_element_by_xpath(\"//div[@class='outerRecSec'][\"+str(i)+\"]/div[1]/div/div[2]\") #Skills\n",
    "    Skills_they_hire_for.append(link1.text)\n",
    "    link2 = driver.find_element_by_xpath(\"//div[@class='outerRecSec'][\"+str(i)+\"]/div[2]/div/div[2]\") #Skills\n",
    "    Skills_they_hire_for.append(link2.text)\n",
    "    "
   ]
  },
  {
   "cell_type": "code",
   "execution_count": null,
   "id": "b05d5588",
   "metadata": {},
   "outputs": [],
   "source": [
    "# Creating Dataframe\n",
    "Naukri = pd.DataFrame({})\n",
    "Naukri['Name'] = Name\n",
    "Naukri['Designation'] = Designation\n",
    "Naukri['Company'] = Company\n",
    "Naukri['Skills they hire for'] = Skills_they_hire_for\n",
    "Naukri['Location'] = Location\n",
    "Naukri"
   ]
  },
  {
   "cell_type": "markdown",
   "id": "f72380d8",
   "metadata": {},
   "source": [
    "# Question 8"
   ]
  },
  {
   "cell_type": "code",
   "execution_count": 24,
   "id": "01b5b207",
   "metadata": {},
   "outputs": [
    {
     "name": "stderr",
     "output_type": "stream",
     "text": [
      "C:\\Users\\PRERNA~1\\AppData\\Local\\Temp/ipykernel_22060/1149218278.py:1: DeprecationWarning: executable_path has been deprecated, please pass in a Service object\n",
      "  driver = webdriver.Chrome(r\"C:/Users/Prerna Jain/OneDrive/Desktop/Fliprobo Internship/chromedriver_win32/chromedriver.exe\")\n"
     ]
    }
   ],
   "source": [
    "driver = webdriver.Chrome(r\"C:/Users/Prerna Jain/OneDrive/Desktop/Fliprobo Internship/chromedriver_win32/chromedriver.exe\") "
   ]
  },
  {
   "cell_type": "code",
   "execution_count": 25,
   "id": "d1d70690",
   "metadata": {},
   "outputs": [],
   "source": [
    "url = \"https://www.theguardian.com/news/datablog/2012/aug/09/best-selling-books-all-time-fifty-shades-grey-compare/\"\n",
    "driver.get(url)\n",
    "driver.implicitly_wait(20)"
   ]
  },
  {
   "cell_type": "code",
   "execution_count": 26,
   "id": "130b03af",
   "metadata": {},
   "outputs": [
    {
     "name": "stderr",
     "output_type": "stream",
     "text": [
      "C:\\Users\\PRERNA~1\\AppData\\Local\\Temp/ipykernel_22060/219310058.py:1: DeprecationWarning: find_element_by_* commands are deprecated. Please use find_element() instead\n",
      "  Rows = driver.find_element_by_xpath(\"//table[@class='in-article sortable']\").find_elements_by_xpath(\"tbody/tr\")\n",
      "C:\\Users\\Prerna Jain\\anaconda3\\lib\\site-packages\\selenium\\webdriver\\remote\\webelement.py:426: UserWarning: find_elements_by_* commands are deprecated. Please use find_elements() instead\n",
      "  warnings.warn(\"find_elements_by_* commands are deprecated. Please use find_elements() instead\")\n"
     ]
    }
   ],
   "source": [
    "Rows = driver.find_element_by_xpath(\"//table[@class='in-article sortable']\").find_elements_by_xpath(\"tbody/tr\")\n",
    "#creating empty list\n",
    "name=[]\n",
    "author=[]\n",
    "vol=[]\n",
    "publisher=[]\n",
    "genre=[]\n",
    "\n",
    "for i in Rows:\n",
    "    j = i.find_elements_by_xpath(\"td\")\n",
    "    name.append(j[1].text)\n",
    "    author.append(j[2].text)\n",
    "    vol.append(j[3].text)\n",
    "    publisher.append(j[4].text)\n",
    "    genre.append(j[5].text)"
   ]
  },
  {
   "cell_type": "code",
   "execution_count": 27,
   "id": "06d532d7",
   "metadata": {},
   "outputs": [
    {
     "data": {
      "text/html": [
       "<div>\n",
       "<style scoped>\n",
       "    .dataframe tbody tr th:only-of-type {\n",
       "        vertical-align: middle;\n",
       "    }\n",
       "\n",
       "    .dataframe tbody tr th {\n",
       "        vertical-align: top;\n",
       "    }\n",
       "\n",
       "    .dataframe thead th {\n",
       "        text-align: right;\n",
       "    }\n",
       "</style>\n",
       "<table border=\"1\" class=\"dataframe\">\n",
       "  <thead>\n",
       "    <tr style=\"text-align: right;\">\n",
       "      <th></th>\n",
       "      <th>Name</th>\n",
       "      <th>AuthorName</th>\n",
       "      <th>VolumeSold</th>\n",
       "      <th>Publisher</th>\n",
       "      <th>Genre</th>\n",
       "    </tr>\n",
       "  </thead>\n",
       "  <tbody>\n",
       "    <tr>\n",
       "      <th>0</th>\n",
       "      <td>Da Vinci Code,The</td>\n",
       "      <td>Brown, Dan</td>\n",
       "      <td>5,094,805</td>\n",
       "      <td>Transworld</td>\n",
       "      <td>Crime, Thriller &amp; Adventure</td>\n",
       "    </tr>\n",
       "    <tr>\n",
       "      <th>1</th>\n",
       "      <td>Harry Potter and the Deathly Hallows</td>\n",
       "      <td>Rowling, J.K.</td>\n",
       "      <td>4,475,152</td>\n",
       "      <td>Bloomsbury</td>\n",
       "      <td>Children's Fiction</td>\n",
       "    </tr>\n",
       "    <tr>\n",
       "      <th>2</th>\n",
       "      <td>Harry Potter and the Philosopher's Stone</td>\n",
       "      <td>Rowling, J.K.</td>\n",
       "      <td>4,200,654</td>\n",
       "      <td>Bloomsbury</td>\n",
       "      <td>Children's Fiction</td>\n",
       "    </tr>\n",
       "    <tr>\n",
       "      <th>3</th>\n",
       "      <td>Harry Potter and the Order of the Phoenix</td>\n",
       "      <td>Rowling, J.K.</td>\n",
       "      <td>4,179,479</td>\n",
       "      <td>Bloomsbury</td>\n",
       "      <td>Children's Fiction</td>\n",
       "    </tr>\n",
       "    <tr>\n",
       "      <th>4</th>\n",
       "      <td>Fifty Shades of Grey</td>\n",
       "      <td>James, E. L.</td>\n",
       "      <td>3,758,936</td>\n",
       "      <td>Random House</td>\n",
       "      <td>Romance &amp; Sagas</td>\n",
       "    </tr>\n",
       "    <tr>\n",
       "      <th>...</th>\n",
       "      <td>...</td>\n",
       "      <td>...</td>\n",
       "      <td>...</td>\n",
       "      <td>...</td>\n",
       "      <td>...</td>\n",
       "    </tr>\n",
       "    <tr>\n",
       "      <th>95</th>\n",
       "      <td>Ghost,The</td>\n",
       "      <td>Harris, Robert</td>\n",
       "      <td>807,311</td>\n",
       "      <td>Random House</td>\n",
       "      <td>General &amp; Literary Fiction</td>\n",
       "    </tr>\n",
       "    <tr>\n",
       "      <th>96</th>\n",
       "      <td>Happy Days with the Naked Chef</td>\n",
       "      <td>Oliver, Jamie</td>\n",
       "      <td>794,201</td>\n",
       "      <td>Penguin</td>\n",
       "      <td>Food &amp; Drink: General</td>\n",
       "    </tr>\n",
       "    <tr>\n",
       "      <th>97</th>\n",
       "      <td>Hunger Games,The:Hunger Games Trilogy</td>\n",
       "      <td>Collins, Suzanne</td>\n",
       "      <td>792,187</td>\n",
       "      <td>Scholastic Ltd.</td>\n",
       "      <td>Young Adult Fiction</td>\n",
       "    </tr>\n",
       "    <tr>\n",
       "      <th>98</th>\n",
       "      <td>Lost Boy,The:A Foster Child's Search for the L...</td>\n",
       "      <td>Pelzer, Dave</td>\n",
       "      <td>791,507</td>\n",
       "      <td>Orion</td>\n",
       "      <td>Biography: General</td>\n",
       "    </tr>\n",
       "    <tr>\n",
       "      <th>99</th>\n",
       "      <td>Jamie's Ministry of Food:Anyone Can Learn to C...</td>\n",
       "      <td>Oliver, Jamie</td>\n",
       "      <td>791,095</td>\n",
       "      <td>Penguin</td>\n",
       "      <td>Food &amp; Drink: General</td>\n",
       "    </tr>\n",
       "  </tbody>\n",
       "</table>\n",
       "<p>100 rows × 5 columns</p>\n",
       "</div>"
      ],
      "text/plain": [
       "                                                 Name        AuthorName  \\\n",
       "0                                   Da Vinci Code,The        Brown, Dan   \n",
       "1                Harry Potter and the Deathly Hallows     Rowling, J.K.   \n",
       "2            Harry Potter and the Philosopher's Stone     Rowling, J.K.   \n",
       "3           Harry Potter and the Order of the Phoenix     Rowling, J.K.   \n",
       "4                                Fifty Shades of Grey      James, E. L.   \n",
       "..                                                ...               ...   \n",
       "95                                          Ghost,The    Harris, Robert   \n",
       "96                     Happy Days with the Naked Chef     Oliver, Jamie   \n",
       "97              Hunger Games,The:Hunger Games Trilogy  Collins, Suzanne   \n",
       "98  Lost Boy,The:A Foster Child's Search for the L...      Pelzer, Dave   \n",
       "99  Jamie's Ministry of Food:Anyone Can Learn to C...     Oliver, Jamie   \n",
       "\n",
       "   VolumeSold        Publisher                        Genre  \n",
       "0   5,094,805       Transworld  Crime, Thriller & Adventure  \n",
       "1   4,475,152       Bloomsbury           Children's Fiction  \n",
       "2   4,200,654       Bloomsbury           Children's Fiction  \n",
       "3   4,179,479       Bloomsbury           Children's Fiction  \n",
       "4   3,758,936     Random House              Romance & Sagas  \n",
       "..        ...              ...                          ...  \n",
       "95    807,311     Random House   General & Literary Fiction  \n",
       "96    794,201          Penguin        Food & Drink: General  \n",
       "97    792,187  Scholastic Ltd.          Young Adult Fiction  \n",
       "98    791,507            Orion           Biography: General  \n",
       "99    791,095          Penguin        Food & Drink: General  \n",
       "\n",
       "[100 rows x 5 columns]"
      ]
     },
     "execution_count": 27,
     "metadata": {},
     "output_type": "execute_result"
    }
   ],
   "source": [
    "#creating data frame\n",
    "df = pd.DataFrame({'Name':name,'AuthorName':author,'VolumeSold':vol,'Publisher':publisher,'Genre':genre})\n",
    "df"
   ]
  },
  {
   "cell_type": "markdown",
   "id": "b22b23d4",
   "metadata": {},
   "source": [
    "# Question-9"
   ]
  },
  {
   "cell_type": "code",
   "execution_count": 17,
   "id": "cce511f9",
   "metadata": {},
   "outputs": [
    {
     "name": "stderr",
     "output_type": "stream",
     "text": [
      "C:\\Users\\PRERNA~1\\AppData\\Local\\Temp/ipykernel_22060/1149218278.py:1: DeprecationWarning: executable_path has been deprecated, please pass in a Service object\n",
      "  driver = webdriver.Chrome(r\"C:/Users/Prerna Jain/OneDrive/Desktop/Fliprobo Internship/chromedriver_win32/chromedriver.exe\")\n"
     ]
    }
   ],
   "source": [
    "driver = webdriver.Chrome(r\"C:/Users/Prerna Jain/OneDrive/Desktop/Fliprobo Internship/chromedriver_win32/chromedriver.exe\") "
   ]
  },
  {
   "cell_type": "code",
   "execution_count": 18,
   "id": "48de35a4",
   "metadata": {},
   "outputs": [],
   "source": [
    "url = \"https://www.imdb.com/list/ls095964455/\"\n",
    "driver.get(url)\n",
    "driver.implicitly_wait(20)"
   ]
  },
  {
   "cell_type": "code",
   "execution_count": 19,
   "id": "b3b01b88",
   "metadata": {},
   "outputs": [
    {
     "name": "stderr",
     "output_type": "stream",
     "text": [
      "C:\\Users\\PRERNA~1\\AppData\\Local\\Temp/ipykernel_22060/602981950.py:1: DeprecationWarning: find_elements_by_* commands are deprecated. Please use find_elements() instead\n",
      "  Rows = driver.find_elements_by_xpath('//div[@class=\"lister list detail sub-list\"]//div[@class=\"lister-list\"]//div[@class=\"lister-item mode-detail\"]')\n",
      "C:\\Users\\Prerna Jain\\anaconda3\\lib\\site-packages\\selenium\\webdriver\\remote\\webelement.py:393: UserWarning: find_element_by_* commands are deprecated. Please use find_element() instead\n",
      "  warnings.warn(\"find_element_by_* commands are deprecated. Please use find_element() instead\")\n",
      "C:\\Users\\Prerna Jain\\anaconda3\\lib\\site-packages\\selenium\\webdriver\\remote\\webelement.py:426: UserWarning: find_elements_by_* commands are deprecated. Please use find_elements() instead\n",
      "  warnings.warn(\"find_elements_by_* commands are deprecated. Please use find_elements() instead\")\n"
     ]
    }
   ],
   "source": [
    "Rows = driver.find_elements_by_xpath('//div[@class=\"lister list detail sub-list\"]//div[@class=\"lister-list\"]//div[@class=\"lister-item mode-detail\"]')\n",
    "# creating empty list\n",
    "name=[]\n",
    "span=[]\n",
    "runtime=[]\n",
    "genre=[]\n",
    "rating=[]\n",
    "votes=[]\n",
    "for i in Rows:\n",
    "    try:\n",
    "        name.append(i.find_element_by_xpath('div[@class=\"lister-item-content\"]//h3[@class=\"lister-item-header\"]//a').text)\n",
    "    except:\n",
    "        name.append('')\n",
    "    try:\n",
    "        span.append(i.find_element_by_xpath('div[@class=\"lister-item-content\"]//h3[@class=\"lister-item-header\"]//span[@class=\"lister-item-year text-muted unbold\"]').text)\n",
    "    except:\n",
    "        span.append('')\n",
    "    try:\n",
    "        runtime.append(i.find_element_by_xpath('div[@class=\"lister-item-content\"]//p[@class=\"text-muted text-small\"]//span[@class=\"runtime\"]').text)\n",
    "    except:\n",
    "        runtime.append('')\n",
    "    try:\n",
    "        genre.append(i.find_element_by_xpath('div[@class=\"lister-item-content\"]//p[@class=\"text-muted text-small\"]//span[@class=\"genre\"]').text)\n",
    "    except:\n",
    "        genre.append('')\n",
    "    try:\n",
    "        rating.append(i.find_element_by_xpath('div[@class=\"lister-item-content\"]//div[@class=\"ipl-rating-widget\"]//span[@class=\"ipl-rating-star__rating\"]').text)\n",
    "    except:\n",
    "        rating.append('')\n",
    "    try:\n",
    "        votes.append(i.find_elements_by_xpath('div[@class=\"lister-item-content\"]//p[@class=\"text-muted text-small\"]')[2].find_elements_by_xpath(\"span\")[1].text)\n",
    "    except:\n",
    "        votes.append('')"
   ]
  },
  {
   "cell_type": "code",
   "execution_count": 20,
   "id": "d8680f62",
   "metadata": {},
   "outputs": [
    {
     "data": {
      "text/html": [
       "<div>\n",
       "<style scoped>\n",
       "    .dataframe tbody tr th:only-of-type {\n",
       "        vertical-align: middle;\n",
       "    }\n",
       "\n",
       "    .dataframe tbody tr th {\n",
       "        vertical-align: top;\n",
       "    }\n",
       "\n",
       "    .dataframe thead th {\n",
       "        text-align: right;\n",
       "    }\n",
       "</style>\n",
       "<table border=\"1\" class=\"dataframe\">\n",
       "  <thead>\n",
       "    <tr style=\"text-align: right;\">\n",
       "      <th></th>\n",
       "      <th>Name</th>\n",
       "      <th>Span</th>\n",
       "      <th>Runtime</th>\n",
       "      <th>Genre</th>\n",
       "      <th>Rating</th>\n",
       "      <th>Votes</th>\n",
       "    </tr>\n",
       "  </thead>\n",
       "  <tbody>\n",
       "    <tr>\n",
       "      <th>0</th>\n",
       "      <td>Game of Thrones</td>\n",
       "      <td>(2011–2019)</td>\n",
       "      <td>57 min</td>\n",
       "      <td>Action, Adventure, Drama</td>\n",
       "      <td>9.2</td>\n",
       "      <td>1,930,939</td>\n",
       "    </tr>\n",
       "    <tr>\n",
       "      <th>1</th>\n",
       "      <td>Stranger Things</td>\n",
       "      <td>(2016– )</td>\n",
       "      <td>51 min</td>\n",
       "      <td>Drama, Fantasy, Horror</td>\n",
       "      <td>8.7</td>\n",
       "      <td>951,686</td>\n",
       "    </tr>\n",
       "    <tr>\n",
       "      <th>2</th>\n",
       "      <td>The Walking Dead</td>\n",
       "      <td>(2010–2022)</td>\n",
       "      <td>44 min</td>\n",
       "      <td>Drama, Horror, Thriller</td>\n",
       "      <td>8.2</td>\n",
       "      <td>922,293</td>\n",
       "    </tr>\n",
       "    <tr>\n",
       "      <th>3</th>\n",
       "      <td>13 Reasons Why</td>\n",
       "      <td>(2017–2020)</td>\n",
       "      <td>60 min</td>\n",
       "      <td>Drama, Mystery, Thriller</td>\n",
       "      <td>7.5</td>\n",
       "      <td>276,353</td>\n",
       "    </tr>\n",
       "    <tr>\n",
       "      <th>4</th>\n",
       "      <td>The 100</td>\n",
       "      <td>(2014–2020)</td>\n",
       "      <td>43 min</td>\n",
       "      <td>Drama, Mystery, Sci-Fi</td>\n",
       "      <td>7.6</td>\n",
       "      <td>236,598</td>\n",
       "    </tr>\n",
       "    <tr>\n",
       "      <th>...</th>\n",
       "      <td>...</td>\n",
       "      <td>...</td>\n",
       "      <td>...</td>\n",
       "      <td>...</td>\n",
       "      <td>...</td>\n",
       "      <td>...</td>\n",
       "    </tr>\n",
       "    <tr>\n",
       "      <th>95</th>\n",
       "      <td>Reign</td>\n",
       "      <td>(2013–2017)</td>\n",
       "      <td>42 min</td>\n",
       "      <td>Drama, Fantasy</td>\n",
       "      <td>7.5</td>\n",
       "      <td>47,189</td>\n",
       "    </tr>\n",
       "    <tr>\n",
       "      <th>96</th>\n",
       "      <td>A Series of Unfortunate Events</td>\n",
       "      <td>(2017–2019)</td>\n",
       "      <td>50 min</td>\n",
       "      <td>Adventure, Comedy, Drama</td>\n",
       "      <td>7.8</td>\n",
       "      <td>57,981</td>\n",
       "    </tr>\n",
       "    <tr>\n",
       "      <th>97</th>\n",
       "      <td>Criminal Minds</td>\n",
       "      <td>(2005–2020)</td>\n",
       "      <td>42 min</td>\n",
       "      <td>Crime, Drama, Mystery</td>\n",
       "      <td>8.1</td>\n",
       "      <td>183,064</td>\n",
       "    </tr>\n",
       "    <tr>\n",
       "      <th>98</th>\n",
       "      <td>Scream: The TV Series</td>\n",
       "      <td>(2015–2019)</td>\n",
       "      <td>45 min</td>\n",
       "      <td>Comedy, Crime, Drama</td>\n",
       "      <td>7.1</td>\n",
       "      <td>38,348</td>\n",
       "    </tr>\n",
       "    <tr>\n",
       "      <th>99</th>\n",
       "      <td>The Haunting of Hill House</td>\n",
       "      <td>(2018)</td>\n",
       "      <td>572 min</td>\n",
       "      <td>Drama, Horror, Mystery</td>\n",
       "      <td>8.6</td>\n",
       "      <td>218,059</td>\n",
       "    </tr>\n",
       "  </tbody>\n",
       "</table>\n",
       "<p>100 rows × 6 columns</p>\n",
       "</div>"
      ],
      "text/plain": [
       "                              Name         Span  Runtime  \\\n",
       "0                  Game of Thrones  (2011–2019)   57 min   \n",
       "1                  Stranger Things     (2016– )   51 min   \n",
       "2                 The Walking Dead  (2010–2022)   44 min   \n",
       "3                   13 Reasons Why  (2017–2020)   60 min   \n",
       "4                          The 100  (2014–2020)   43 min   \n",
       "..                             ...          ...      ...   \n",
       "95                           Reign  (2013–2017)   42 min   \n",
       "96  A Series of Unfortunate Events  (2017–2019)   50 min   \n",
       "97                  Criminal Minds  (2005–2020)   42 min   \n",
       "98           Scream: The TV Series  (2015–2019)   45 min   \n",
       "99      The Haunting of Hill House       (2018)  572 min   \n",
       "\n",
       "                       Genre Rating      Votes  \n",
       "0   Action, Adventure, Drama    9.2  1,930,939  \n",
       "1     Drama, Fantasy, Horror    8.7    951,686  \n",
       "2    Drama, Horror, Thriller    8.2    922,293  \n",
       "3   Drama, Mystery, Thriller    7.5    276,353  \n",
       "4     Drama, Mystery, Sci-Fi    7.6    236,598  \n",
       "..                       ...    ...        ...  \n",
       "95            Drama, Fantasy    7.5     47,189  \n",
       "96  Adventure, Comedy, Drama    7.8     57,981  \n",
       "97     Crime, Drama, Mystery    8.1    183,064  \n",
       "98      Comedy, Crime, Drama    7.1     38,348  \n",
       "99    Drama, Horror, Mystery    8.6    218,059  \n",
       "\n",
       "[100 rows x 6 columns]"
      ]
     },
     "execution_count": 20,
     "metadata": {},
     "output_type": "execute_result"
    }
   ],
   "source": [
    "#creating dataframe\n",
    "df = pd.DataFrame({'Name':name,'Span':span,'Runtime':runtime,'Genre':genre,'Rating':rating,'Votes':votes})\n",
    "df"
   ]
  },
  {
   "cell_type": "markdown",
   "id": "3e8fc3a1",
   "metadata": {},
   "source": [
    "# Question-10"
   ]
  },
  {
   "cell_type": "code",
   "execution_count": 6,
   "id": "b28eda78",
   "metadata": {},
   "outputs": [
    {
     "name": "stderr",
     "output_type": "stream",
     "text": [
      "C:\\Users\\PRERNA~1\\AppData\\Local\\Temp/ipykernel_22060/1149218278.py:1: DeprecationWarning: executable_path has been deprecated, please pass in a Service object\n",
      "  driver = webdriver.Chrome(r\"C:/Users/Prerna Jain/OneDrive/Desktop/Fliprobo Internship/chromedriver_win32/chromedriver.exe\")\n"
     ]
    }
   ],
   "source": [
    "driver = webdriver.Chrome(r\"C:/Users/Prerna Jain/OneDrive/Desktop/Fliprobo Internship/chromedriver_win32/chromedriver.exe\") "
   ]
  },
  {
   "cell_type": "code",
   "execution_count": 7,
   "id": "72f71d79",
   "metadata": {},
   "outputs": [],
   "source": [
    "url = 'https://archive.ics.uci.edu/'\n",
    "driver.get(url)"
   ]
  },
  {
   "cell_type": "code",
   "execution_count": 8,
   "id": "1cb6c03c",
   "metadata": {},
   "outputs": [
    {
     "name": "stderr",
     "output_type": "stream",
     "text": [
      "C:\\Users\\PRERNA~1\\AppData\\Local\\Temp/ipykernel_22060/3231374008.py:1: DeprecationWarning: find_element_by_* commands are deprecated. Please use find_element() instead\n",
      "  all_dataset=driver.find_element_by_xpath('/html/body/table[1]/tbody/tr/td[2]/span[2]')\n"
     ]
    }
   ],
   "source": [
    "all_dataset=driver.find_element_by_xpath('/html/body/table[1]/tbody/tr/td[2]/span[2]')\n",
    "all_dataset.click()"
   ]
  },
  {
   "cell_type": "code",
   "execution_count": 9,
   "id": "411e2618",
   "metadata": {},
   "outputs": [
    {
     "name": "stderr",
     "output_type": "stream",
     "text": [
      "C:\\Users\\PRERNA~1\\AppData\\Local\\Temp/ipykernel_22060/2419711861.py:3: DeprecationWarning: find_elements_by_* commands are deprecated. Please use find_elements() instead\n",
      "  names=driver.find_elements_by_xpath('/html/body/table[2]/tbody/tr/td[2]/table[2]/tbody/tr/td[1]')\n"
     ]
    }
   ],
   "source": [
    "name=[]\n",
    "\n",
    "names=driver.find_elements_by_xpath('/html/body/table[2]/tbody/tr/td[2]/table[2]/tbody/tr/td[1]')\n",
    "\n",
    "for i in names:\n",
    "    try:\n",
    "        name.append(i.text)\n",
    "    except NoSuchElementException:\n",
    "        name.append('--')"
   ]
  },
  {
   "cell_type": "code",
   "execution_count": 10,
   "id": "91cb173a",
   "metadata": {},
   "outputs": [
    {
     "name": "stderr",
     "output_type": "stream",
     "text": [
      "C:\\Users\\PRERNA~1\\AppData\\Local\\Temp/ipykernel_22060/1722349120.py:3: DeprecationWarning: find_elements_by_* commands are deprecated. Please use find_elements() instead\n",
      "  types=driver.find_elements_by_xpath('/html/body/table[2]/tbody/tr/td[2]/table[2]/tbody/tr/td[2]')\n"
     ]
    }
   ],
   "source": [
    "data_type=[]\n",
    "\n",
    "types=driver.find_elements_by_xpath('/html/body/table[2]/tbody/tr/td[2]/table[2]/tbody/tr/td[2]')\n",
    "\n",
    "for i in types:\n",
    "    try:\n",
    "        data_type.append(i.text)\n",
    "    except NoSuchElementException:\n",
    "        data_type.append('--')"
   ]
  },
  {
   "cell_type": "code",
   "execution_count": 11,
   "id": "dcf920c0",
   "metadata": {},
   "outputs": [
    {
     "name": "stderr",
     "output_type": "stream",
     "text": [
      "C:\\Users\\PRERNA~1\\AppData\\Local\\Temp/ipykernel_22060/2485964380.py:3: DeprecationWarning: find_elements_by_* commands are deprecated. Please use find_elements() instead\n",
      "  tasks=driver.find_elements_by_xpath('/html/body/table[2]/tbody/tr/td[2]/table[2]/tbody/tr/td[3]')\n"
     ]
    }
   ],
   "source": [
    "task=[]\n",
    "\n",
    "tasks=driver.find_elements_by_xpath('/html/body/table[2]/tbody/tr/td[2]/table[2]/tbody/tr/td[3]')\n",
    "\n",
    "for i in tasks:\n",
    "    try:\n",
    "        task.append(i.text)\n",
    "    except NoSuchElementException:\n",
    "        task.append('--')"
   ]
  },
  {
   "cell_type": "code",
   "execution_count": 12,
   "id": "a8dcf4c1",
   "metadata": {},
   "outputs": [
    {
     "name": "stderr",
     "output_type": "stream",
     "text": [
      "C:\\Users\\PRERNA~1\\AppData\\Local\\Temp/ipykernel_22060/3803398727.py:3: DeprecationWarning: find_elements_by_* commands are deprecated. Please use find_elements() instead\n",
      "  attr=driver.find_elements_by_xpath('/html/body/table[2]/tbody/tr/td[2]/table[2]/tbody/tr/td[4]')\n"
     ]
    }
   ],
   "source": [
    "attribute=[]\n",
    "\n",
    "attr=driver.find_elements_by_xpath('/html/body/table[2]/tbody/tr/td[2]/table[2]/tbody/tr/td[4]')\n",
    "\n",
    "for i in attr:\n",
    "    try:\n",
    "        attribute.append(i.text)\n",
    "    except NoSuchElementException:\n",
    "        attribute.append('--')"
   ]
  },
  {
   "cell_type": "code",
   "execution_count": 13,
   "id": "0f3b7da1",
   "metadata": {},
   "outputs": [
    {
     "name": "stderr",
     "output_type": "stream",
     "text": [
      "C:\\Users\\PRERNA~1\\AppData\\Local\\Temp/ipykernel_22060/2329301302.py:3: DeprecationWarning: find_elements_by_* commands are deprecated. Please use find_elements() instead\n",
      "  inst=driver.find_elements_by_xpath('/html/body/table[2]/tbody/tr/td[2]/table[2]/tbody/tr/td[5]')\n"
     ]
    }
   ],
   "source": [
    "num_instances=[]\n",
    "\n",
    "inst=driver.find_elements_by_xpath('/html/body/table[2]/tbody/tr/td[2]/table[2]/tbody/tr/td[5]')\n",
    "\n",
    "for i in inst:\n",
    "    try:\n",
    "        num_instances.append(i.text)\n",
    "    except NoSuchElementException:\n",
    "        num_instances.append('--')"
   ]
  },
  {
   "cell_type": "code",
   "execution_count": 14,
   "id": "1426f5a7",
   "metadata": {},
   "outputs": [
    {
     "name": "stderr",
     "output_type": "stream",
     "text": [
      "C:\\Users\\PRERNA~1\\AppData\\Local\\Temp/ipykernel_22060/4091790527.py:3: DeprecationWarning: find_elements_by_* commands are deprecated. Please use find_elements() instead\n",
      "  attrb=driver.find_elements_by_xpath('/html/body/table[2]/tbody/tr/td[2]/table[2]/tbody/tr/td[6]')\n"
     ]
    }
   ],
   "source": [
    "num_attr=[]\n",
    "\n",
    "attrb=driver.find_elements_by_xpath('/html/body/table[2]/tbody/tr/td[2]/table[2]/tbody/tr/td[6]')\n",
    "\n",
    "for i in attrb:\n",
    "    try:\n",
    "        num_attr.append(i.text)\n",
    "    except NoSuchElementException:\n",
    "        num_attr.append('--')"
   ]
  },
  {
   "cell_type": "code",
   "execution_count": 15,
   "id": "5e895959",
   "metadata": {},
   "outputs": [
    {
     "name": "stderr",
     "output_type": "stream",
     "text": [
      "C:\\Users\\PRERNA~1\\AppData\\Local\\Temp/ipykernel_22060/2055007987.py:3: DeprecationWarning: find_elements_by_* commands are deprecated. Please use find_elements() instead\n",
      "  yr=driver.find_elements_by_xpath('/html/body/table[2]/tbody/tr/td[2]/table[2]/tbody/tr/td[7]')\n"
     ]
    }
   ],
   "source": [
    "year=[]\n",
    "\n",
    "yr=driver.find_elements_by_xpath('/html/body/table[2]/tbody/tr/td[2]/table[2]/tbody/tr/td[7]')\n",
    "\n",
    "for i in yr:\n",
    "    try:\n",
    "        year.append(i.text)\n",
    "    except NoSuchElementException:\n",
    "        year.append('--')"
   ]
  },
  {
   "cell_type": "code",
   "execution_count": 16,
   "id": "5bbb8641",
   "metadata": {},
   "outputs": [
    {
     "data": {
      "text/html": [
       "<div>\n",
       "<style scoped>\n",
       "    .dataframe tbody tr th:only-of-type {\n",
       "        vertical-align: middle;\n",
       "    }\n",
       "\n",
       "    .dataframe tbody tr th {\n",
       "        vertical-align: top;\n",
       "    }\n",
       "\n",
       "    .dataframe thead th {\n",
       "        text-align: right;\n",
       "    }\n",
       "</style>\n",
       "<table border=\"1\" class=\"dataframe\">\n",
       "  <thead>\n",
       "    <tr style=\"text-align: right;\">\n",
       "      <th></th>\n",
       "      <th>Name</th>\n",
       "      <th>Data Type</th>\n",
       "      <th>Default Task</th>\n",
       "      <th>Attribute Type</th>\n",
       "      <th>Num of Instances</th>\n",
       "      <th>Num of Attributes</th>\n",
       "      <th>Year</th>\n",
       "    </tr>\n",
       "  </thead>\n",
       "  <tbody>\n",
       "    <tr>\n",
       "      <th>0</th>\n",
       "      <td>Abalone</td>\n",
       "      <td>Multivariate</td>\n",
       "      <td>Classification</td>\n",
       "      <td>Categorical, Integer, Real</td>\n",
       "      <td>4177</td>\n",
       "      <td>8</td>\n",
       "      <td>1995</td>\n",
       "    </tr>\n",
       "    <tr>\n",
       "      <th>1</th>\n",
       "      <td>Adult</td>\n",
       "      <td>Multivariate</td>\n",
       "      <td>Classification</td>\n",
       "      <td>Categorical, Integer</td>\n",
       "      <td>48842</td>\n",
       "      <td>14</td>\n",
       "      <td>1996</td>\n",
       "    </tr>\n",
       "    <tr>\n",
       "      <th>2</th>\n",
       "      <td>Annealing</td>\n",
       "      <td>Multivariate</td>\n",
       "      <td>Classification</td>\n",
       "      <td>Categorical, Integer, Real</td>\n",
       "      <td>798</td>\n",
       "      <td>38</td>\n",
       "      <td></td>\n",
       "    </tr>\n",
       "    <tr>\n",
       "      <th>3</th>\n",
       "      <td>Anonymous Microsoft Web Data</td>\n",
       "      <td></td>\n",
       "      <td>Recommender-Systems</td>\n",
       "      <td>Categorical</td>\n",
       "      <td>37711</td>\n",
       "      <td>294</td>\n",
       "      <td>1998</td>\n",
       "    </tr>\n",
       "    <tr>\n",
       "      <th>4</th>\n",
       "      <td>Arrhythmia</td>\n",
       "      <td>Multivariate</td>\n",
       "      <td>Classification</td>\n",
       "      <td>Categorical, Integer, Real</td>\n",
       "      <td>452</td>\n",
       "      <td>279</td>\n",
       "      <td>1998</td>\n",
       "    </tr>\n",
       "    <tr>\n",
       "      <th>...</th>\n",
       "      <td>...</td>\n",
       "      <td>...</td>\n",
       "      <td>...</td>\n",
       "      <td>...</td>\n",
       "      <td>...</td>\n",
       "      <td>...</td>\n",
       "      <td>...</td>\n",
       "    </tr>\n",
       "    <tr>\n",
       "      <th>617</th>\n",
       "      <td>Influenza outbreak event prediction via Twit...</td>\n",
       "      <td>Multivariate</td>\n",
       "      <td>Classification</td>\n",
       "      <td>Integer, Real</td>\n",
       "      <td>75840</td>\n",
       "      <td>525</td>\n",
       "      <td>2020</td>\n",
       "    </tr>\n",
       "    <tr>\n",
       "      <th>618</th>\n",
       "      <td>Turkish Music Emotion Dataset</td>\n",
       "      <td>Multivariate</td>\n",
       "      <td>Classification</td>\n",
       "      <td>Integer, Real</td>\n",
       "      <td>400</td>\n",
       "      <td>50</td>\n",
       "      <td>2020</td>\n",
       "    </tr>\n",
       "    <tr>\n",
       "      <th>619</th>\n",
       "      <td>Maternal Health Risk Data Set</td>\n",
       "      <td></td>\n",
       "      <td>Classification</td>\n",
       "      <td></td>\n",
       "      <td>1014</td>\n",
       "      <td>7</td>\n",
       "      <td>2020</td>\n",
       "    </tr>\n",
       "    <tr>\n",
       "      <th>620</th>\n",
       "      <td>Room Occupancy Estimation</td>\n",
       "      <td>Multivariate, Time-Series</td>\n",
       "      <td>Classification</td>\n",
       "      <td>Real</td>\n",
       "      <td>10129</td>\n",
       "      <td>16</td>\n",
       "      <td>2021</td>\n",
       "    </tr>\n",
       "    <tr>\n",
       "      <th>621</th>\n",
       "      <td>Image Recognition Task Execution Times in Mo...</td>\n",
       "      <td>Univariate</td>\n",
       "      <td>Regression</td>\n",
       "      <td>Real</td>\n",
       "      <td>4000</td>\n",
       "      <td>2</td>\n",
       "      <td>2021</td>\n",
       "    </tr>\n",
       "  </tbody>\n",
       "</table>\n",
       "<p>622 rows × 7 columns</p>\n",
       "</div>"
      ],
      "text/plain": [
       "                                                  Name  \\\n",
       "0                                              Abalone   \n",
       "1                                                Adult   \n",
       "2                                            Annealing   \n",
       "3                         Anonymous Microsoft Web Data   \n",
       "4                                           Arrhythmia   \n",
       "..                                                 ...   \n",
       "617    Influenza outbreak event prediction via Twit...   \n",
       "618                      Turkish Music Emotion Dataset   \n",
       "619                      Maternal Health Risk Data Set   \n",
       "620                          Room Occupancy Estimation   \n",
       "621    Image Recognition Task Execution Times in Mo...   \n",
       "\n",
       "                      Data Type          Default Task  \\\n",
       "0                 Multivariate        Classification    \n",
       "1                 Multivariate        Classification    \n",
       "2                 Multivariate        Classification    \n",
       "3                                Recommender-Systems    \n",
       "4                 Multivariate        Classification    \n",
       "..                          ...                   ...   \n",
       "617               Multivariate        Classification    \n",
       "618               Multivariate        Classification    \n",
       "619                                   Classification    \n",
       "620  Multivariate, Time-Series        Classification    \n",
       "621                 Univariate            Regression    \n",
       "\n",
       "                  Attribute Type Num of Instances Num of Attributes   Year  \n",
       "0    Categorical, Integer, Real             4177                 8   1995   \n",
       "1          Categorical, Integer            48842                14   1996   \n",
       "2    Categorical, Integer, Real              798                38          \n",
       "3                   Categorical            37711               294   1998   \n",
       "4    Categorical, Integer, Real              452               279   1998   \n",
       "..                           ...              ...               ...    ...  \n",
       "617               Integer, Real            75840               525   2020   \n",
       "618               Integer, Real              400                50   2020   \n",
       "619                                         1014                 7   2020   \n",
       "620                        Real            10129                16   2021   \n",
       "621                        Real             4000                 2   2021   \n",
       "\n",
       "[622 rows x 7 columns]"
      ]
     },
     "execution_count": 16,
     "metadata": {},
     "output_type": "execute_result"
    }
   ],
   "source": [
    "Datasets=pd.DataFrame()\n",
    "\n",
    "Datasets['Name']=name[1:]\n",
    "Datasets['Data Type']=data_type[1:]\n",
    "Datasets['Default Task']=task[1:]\n",
    "Datasets['Attribute Type']=attribute[1:]\n",
    "Datasets['Num of Instances']=num_instances[1:]\n",
    "Datasets['Num of Attributes']=num_attr[1:]\n",
    "Datasets['Year']=year[1:]\n",
    "\n",
    "Datasets"
   ]
  },
  {
   "cell_type": "code",
   "execution_count": null,
   "id": "a5ef126e",
   "metadata": {},
   "outputs": [],
   "source": []
  },
  {
   "cell_type": "code",
   "execution_count": null,
   "id": "16512ebb",
   "metadata": {},
   "outputs": [],
   "source": []
  },
  {
   "cell_type": "code",
   "execution_count": null,
   "id": "09288a46",
   "metadata": {},
   "outputs": [],
   "source": []
  },
  {
   "cell_type": "code",
   "execution_count": null,
   "id": "c7477a0e",
   "metadata": {},
   "outputs": [],
   "source": []
  }
 ],
 "metadata": {
  "kernelspec": {
   "display_name": "Python 3 (ipykernel)",
   "language": "python",
   "name": "python3"
  },
  "language_info": {
   "codemirror_mode": {
    "name": "ipython",
    "version": 3
   },
   "file_extension": ".py",
   "mimetype": "text/x-python",
   "name": "python",
   "nbconvert_exporter": "python",
   "pygments_lexer": "ipython3",
   "version": "3.9.7"
  }
 },
 "nbformat": 4,
 "nbformat_minor": 5
}
